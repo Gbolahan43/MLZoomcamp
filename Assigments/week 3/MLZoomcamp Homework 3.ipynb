{
 "cells": [
  {
   "cell_type": "code",
   "execution_count": 1,
   "id": "0e7baf31",
   "metadata": {
    "ExecuteTime": {
     "end_time": "2023-10-04T07:28:40.154877Z",
     "start_time": "2023-10-04T07:28:40.138194Z"
    }
   },
   "outputs": [],
   "source": [
    "import numpy as np\n",
    "import pandas as pd\n",
    "import seaborn as sns\n",
    "import matplotlib.pyplot as plt\n",
    "\n",
    "%matplotlib inline"
   ]
  },
  {
   "cell_type": "code",
   "execution_count": 3,
   "id": "24f6d17a",
   "metadata": {},
   "outputs": [
    {
     "name": "stderr",
     "output_type": "stream",
     "text": [
      "--2024-10-14 07:15:10--  https://archive.ics.uci.edu/static/public/222/bank+marketing.zip\n",
      "Loaded CA certificate '/usr/ssl/certs/ca-bundle.crt'\n",
      "Resolving archive.ics.uci.edu (archive.ics.uci.edu)... 128.195.10.252\n",
      "Connecting to archive.ics.uci.edu (archive.ics.uci.edu)|128.195.10.252|:443... failed: Connection timed out.\n",
      "Retrying.\n",
      "\n",
      "--2024-10-14 07:15:34--  (try: 2)  https://archive.ics.uci.edu/static/public/222/bank+marketing.zip\n",
      "Connecting to archive.ics.uci.edu (archive.ics.uci.edu)|128.195.10.252|:443... failed: Connection timed out.\n",
      "Retrying.\n",
      "\n",
      "--2024-10-14 07:15:57--  (try: 3)  https://archive.ics.uci.edu/static/public/222/bank+marketing.zip\n",
      "Connecting to archive.ics.uci.edu (archive.ics.uci.edu)|128.195.10.252|:443... failed: Connection timed out.\n",
      "Retrying.\n",
      "\n",
      "--2024-10-14 07:16:21--  (try: 4)  https://archive.ics.uci.edu/static/public/222/bank+marketing.zip\n",
      "Connecting to archive.ics.uci.edu (archive.ics.uci.edu)|128.195.10.252|:443... failed: Connection timed out.\n",
      "Retrying.\n",
      "\n",
      "--2024-10-14 07:16:46--  (try: 5)  https://archive.ics.uci.edu/static/public/222/bank+marketing.zip\n",
      "Connecting to archive.ics.uci.edu (archive.ics.uci.edu)|128.195.10.252|:443... failed: Connection timed out.\n",
      "Retrying.\n",
      "\n",
      "--2024-10-14 07:17:12--  (try: 6)  https://archive.ics.uci.edu/static/public/222/bank+marketing.zip\n",
      "Connecting to archive.ics.uci.edu (archive.ics.uci.edu)|128.195.10.252|:443... failed: Connection timed out.\n",
      "Retrying.\n",
      "\n",
      "--2024-10-14 07:17:39--  (try: 7)  https://archive.ics.uci.edu/static/public/222/bank+marketing.zip\n",
      "Connecting to archive.ics.uci.edu (archive.ics.uci.edu)|128.195.10.252|:443... failed: Connection timed out.\n",
      "Retrying.\n",
      "\n",
      "--2024-10-14 07:18:07--  (try: 8)  https://archive.ics.uci.edu/static/public/222/bank+marketing.zip\n",
      "Connecting to archive.ics.uci.edu (archive.ics.uci.edu)|128.195.10.252|:443... failed: Connection timed out.\n",
      "Retrying.\n",
      "\n",
      "--2024-10-14 07:18:36--  (try: 9)  https://archive.ics.uci.edu/static/public/222/bank+marketing.zip\n",
      "Connecting to archive.ics.uci.edu (archive.ics.uci.edu)|128.195.10.252|:443... connected.\n",
      "HTTP request sent, awaiting response... 200 OK\n",
      "Length: unspecified\n",
      "Saving to: 'bank+marketing.zip'\n",
      "\n",
      "     0K .......... .......... .......... .......... .......... 89.2K\n",
      "    50K .......... .......... .......... .......... ..........  203K\n",
      "   100K .......... .......... .......... .......... .......... 1.49M\n",
      "   150K .......... .......... .......... .......... ..........  219K\n",
      "   200K .......... .......... .......... .......... .......... 1013K\n",
      "   250K .......... .......... .......... .......... ..........  166K\n",
      "   300K .......... .......... .......... .......... ..........  268K\n",
      "   350K .......... .......... .......... .......... ..........  545K\n",
      "   400K .......... .......... .......... .......... .......... 3.68M\n",
      "   450K .......... .......... .......... .......... ..........  313K\n",
      "   500K .......... .......... .......... .......... .......... 1.94M\n",
      "   550K .......... .......... .......... .......... ..........  605K\n",
      "   600K .......... .......... .......... .......... .......... 2.48M\n",
      "   650K .......... .......... .......... .......... ..........  315K\n",
      "   700K .......... .......... .......... .......... ..........  566K\n",
      "   750K .......... .......... .......... .......... .......... 4.07M\n",
      "   800K .......... .......... .......... .......... .......... 1.21M\n",
      "   850K .......... .......... .......... .......... ..........  361K\n",
      "   900K .......... .......... .......... .......... ..........  571K\n",
      "   950K .......... .......... .......... .......... .........  2.75M=2.5s\n",
      "\n",
      "2024-10-14 07:18:43 (394 KB/s) - 'bank+marketing.zip' saved [1023843]\n",
      "\n"
     ]
    }
   ],
   "source": [
    "!wget https://archive.ics.uci.edu/static/public/222/bank+marketing.zip"
   ]
  },
  {
   "cell_type": "code",
   "execution_count": 8,
   "id": "6e0b432a",
   "metadata": {
    "ExecuteTime": {
     "end_time": "2023-10-04T07:28:41.244996Z",
     "start_time": "2023-10-04T07:28:41.156247Z"
    }
   },
   "outputs": [],
   "source": [
    "df = pd.read_csv('bank/bank-full.csv', sep=';')"
   ]
  },
  {
   "cell_type": "code",
   "execution_count": 9,
   "id": "85e89d17",
   "metadata": {
    "ExecuteTime": {
     "end_time": "2023-10-04T07:28:41.986252Z",
     "start_time": "2023-10-04T07:28:41.923992Z"
    }
   },
   "outputs": [
    {
     "data": {
      "text/html": [
       "<div>\n",
       "<style scoped>\n",
       "    .dataframe tbody tr th:only-of-type {\n",
       "        vertical-align: middle;\n",
       "    }\n",
       "\n",
       "    .dataframe tbody tr th {\n",
       "        vertical-align: top;\n",
       "    }\n",
       "\n",
       "    .dataframe thead th {\n",
       "        text-align: right;\n",
       "    }\n",
       "</style>\n",
       "<table border=\"1\" class=\"dataframe\">\n",
       "  <thead>\n",
       "    <tr style=\"text-align: right;\">\n",
       "      <th></th>\n",
       "      <th>age</th>\n",
       "      <th>job</th>\n",
       "      <th>marital</th>\n",
       "      <th>education</th>\n",
       "      <th>default</th>\n",
       "      <th>balance</th>\n",
       "      <th>housing</th>\n",
       "      <th>loan</th>\n",
       "      <th>contact</th>\n",
       "      <th>day</th>\n",
       "      <th>month</th>\n",
       "      <th>duration</th>\n",
       "      <th>campaign</th>\n",
       "      <th>pdays</th>\n",
       "      <th>previous</th>\n",
       "      <th>poutcome</th>\n",
       "      <th>y</th>\n",
       "    </tr>\n",
       "  </thead>\n",
       "  <tbody>\n",
       "    <tr>\n",
       "      <th>0</th>\n",
       "      <td>58</td>\n",
       "      <td>management</td>\n",
       "      <td>married</td>\n",
       "      <td>tertiary</td>\n",
       "      <td>no</td>\n",
       "      <td>2143</td>\n",
       "      <td>yes</td>\n",
       "      <td>no</td>\n",
       "      <td>unknown</td>\n",
       "      <td>5</td>\n",
       "      <td>may</td>\n",
       "      <td>261</td>\n",
       "      <td>1</td>\n",
       "      <td>-1</td>\n",
       "      <td>0</td>\n",
       "      <td>unknown</td>\n",
       "      <td>no</td>\n",
       "    </tr>\n",
       "    <tr>\n",
       "      <th>1</th>\n",
       "      <td>44</td>\n",
       "      <td>technician</td>\n",
       "      <td>single</td>\n",
       "      <td>secondary</td>\n",
       "      <td>no</td>\n",
       "      <td>29</td>\n",
       "      <td>yes</td>\n",
       "      <td>no</td>\n",
       "      <td>unknown</td>\n",
       "      <td>5</td>\n",
       "      <td>may</td>\n",
       "      <td>151</td>\n",
       "      <td>1</td>\n",
       "      <td>-1</td>\n",
       "      <td>0</td>\n",
       "      <td>unknown</td>\n",
       "      <td>no</td>\n",
       "    </tr>\n",
       "    <tr>\n",
       "      <th>2</th>\n",
       "      <td>33</td>\n",
       "      <td>entrepreneur</td>\n",
       "      <td>married</td>\n",
       "      <td>secondary</td>\n",
       "      <td>no</td>\n",
       "      <td>2</td>\n",
       "      <td>yes</td>\n",
       "      <td>yes</td>\n",
       "      <td>unknown</td>\n",
       "      <td>5</td>\n",
       "      <td>may</td>\n",
       "      <td>76</td>\n",
       "      <td>1</td>\n",
       "      <td>-1</td>\n",
       "      <td>0</td>\n",
       "      <td>unknown</td>\n",
       "      <td>no</td>\n",
       "    </tr>\n",
       "    <tr>\n",
       "      <th>3</th>\n",
       "      <td>47</td>\n",
       "      <td>blue-collar</td>\n",
       "      <td>married</td>\n",
       "      <td>unknown</td>\n",
       "      <td>no</td>\n",
       "      <td>1506</td>\n",
       "      <td>yes</td>\n",
       "      <td>no</td>\n",
       "      <td>unknown</td>\n",
       "      <td>5</td>\n",
       "      <td>may</td>\n",
       "      <td>92</td>\n",
       "      <td>1</td>\n",
       "      <td>-1</td>\n",
       "      <td>0</td>\n",
       "      <td>unknown</td>\n",
       "      <td>no</td>\n",
       "    </tr>\n",
       "    <tr>\n",
       "      <th>4</th>\n",
       "      <td>33</td>\n",
       "      <td>unknown</td>\n",
       "      <td>single</td>\n",
       "      <td>unknown</td>\n",
       "      <td>no</td>\n",
       "      <td>1</td>\n",
       "      <td>no</td>\n",
       "      <td>no</td>\n",
       "      <td>unknown</td>\n",
       "      <td>5</td>\n",
       "      <td>may</td>\n",
       "      <td>198</td>\n",
       "      <td>1</td>\n",
       "      <td>-1</td>\n",
       "      <td>0</td>\n",
       "      <td>unknown</td>\n",
       "      <td>no</td>\n",
       "    </tr>\n",
       "    <tr>\n",
       "      <th>5</th>\n",
       "      <td>35</td>\n",
       "      <td>management</td>\n",
       "      <td>married</td>\n",
       "      <td>tertiary</td>\n",
       "      <td>no</td>\n",
       "      <td>231</td>\n",
       "      <td>yes</td>\n",
       "      <td>no</td>\n",
       "      <td>unknown</td>\n",
       "      <td>5</td>\n",
       "      <td>may</td>\n",
       "      <td>139</td>\n",
       "      <td>1</td>\n",
       "      <td>-1</td>\n",
       "      <td>0</td>\n",
       "      <td>unknown</td>\n",
       "      <td>no</td>\n",
       "    </tr>\n",
       "    <tr>\n",
       "      <th>6</th>\n",
       "      <td>28</td>\n",
       "      <td>management</td>\n",
       "      <td>single</td>\n",
       "      <td>tertiary</td>\n",
       "      <td>no</td>\n",
       "      <td>447</td>\n",
       "      <td>yes</td>\n",
       "      <td>yes</td>\n",
       "      <td>unknown</td>\n",
       "      <td>5</td>\n",
       "      <td>may</td>\n",
       "      <td>217</td>\n",
       "      <td>1</td>\n",
       "      <td>-1</td>\n",
       "      <td>0</td>\n",
       "      <td>unknown</td>\n",
       "      <td>no</td>\n",
       "    </tr>\n",
       "    <tr>\n",
       "      <th>7</th>\n",
       "      <td>42</td>\n",
       "      <td>entrepreneur</td>\n",
       "      <td>divorced</td>\n",
       "      <td>tertiary</td>\n",
       "      <td>yes</td>\n",
       "      <td>2</td>\n",
       "      <td>yes</td>\n",
       "      <td>no</td>\n",
       "      <td>unknown</td>\n",
       "      <td>5</td>\n",
       "      <td>may</td>\n",
       "      <td>380</td>\n",
       "      <td>1</td>\n",
       "      <td>-1</td>\n",
       "      <td>0</td>\n",
       "      <td>unknown</td>\n",
       "      <td>no</td>\n",
       "    </tr>\n",
       "    <tr>\n",
       "      <th>8</th>\n",
       "      <td>58</td>\n",
       "      <td>retired</td>\n",
       "      <td>married</td>\n",
       "      <td>primary</td>\n",
       "      <td>no</td>\n",
       "      <td>121</td>\n",
       "      <td>yes</td>\n",
       "      <td>no</td>\n",
       "      <td>unknown</td>\n",
       "      <td>5</td>\n",
       "      <td>may</td>\n",
       "      <td>50</td>\n",
       "      <td>1</td>\n",
       "      <td>-1</td>\n",
       "      <td>0</td>\n",
       "      <td>unknown</td>\n",
       "      <td>no</td>\n",
       "    </tr>\n",
       "    <tr>\n",
       "      <th>9</th>\n",
       "      <td>43</td>\n",
       "      <td>technician</td>\n",
       "      <td>single</td>\n",
       "      <td>secondary</td>\n",
       "      <td>no</td>\n",
       "      <td>593</td>\n",
       "      <td>yes</td>\n",
       "      <td>no</td>\n",
       "      <td>unknown</td>\n",
       "      <td>5</td>\n",
       "      <td>may</td>\n",
       "      <td>55</td>\n",
       "      <td>1</td>\n",
       "      <td>-1</td>\n",
       "      <td>0</td>\n",
       "      <td>unknown</td>\n",
       "      <td>no</td>\n",
       "    </tr>\n",
       "  </tbody>\n",
       "</table>\n",
       "</div>"
      ],
      "text/plain": [
       "   age           job   marital  education default  balance housing loan  \\\n",
       "0   58    management   married   tertiary      no     2143     yes   no   \n",
       "1   44    technician    single  secondary      no       29     yes   no   \n",
       "2   33  entrepreneur   married  secondary      no        2     yes  yes   \n",
       "3   47   blue-collar   married    unknown      no     1506     yes   no   \n",
       "4   33       unknown    single    unknown      no        1      no   no   \n",
       "5   35    management   married   tertiary      no      231     yes   no   \n",
       "6   28    management    single   tertiary      no      447     yes  yes   \n",
       "7   42  entrepreneur  divorced   tertiary     yes        2     yes   no   \n",
       "8   58       retired   married    primary      no      121     yes   no   \n",
       "9   43    technician    single  secondary      no      593     yes   no   \n",
       "\n",
       "   contact  day month  duration  campaign  pdays  previous poutcome   y  \n",
       "0  unknown    5   may       261         1     -1         0  unknown  no  \n",
       "1  unknown    5   may       151         1     -1         0  unknown  no  \n",
       "2  unknown    5   may        76         1     -1         0  unknown  no  \n",
       "3  unknown    5   may        92         1     -1         0  unknown  no  \n",
       "4  unknown    5   may       198         1     -1         0  unknown  no  \n",
       "5  unknown    5   may       139         1     -1         0  unknown  no  \n",
       "6  unknown    5   may       217         1     -1         0  unknown  no  \n",
       "7  unknown    5   may       380         1     -1         0  unknown  no  \n",
       "8  unknown    5   may        50         1     -1         0  unknown  no  \n",
       "9  unknown    5   may        55         1     -1         0  unknown  no  "
      ]
     },
     "execution_count": 9,
     "metadata": {},
     "output_type": "execute_result"
    }
   ],
   "source": [
    "df.head(10)"
   ]
  },
  {
   "cell_type": "code",
   "execution_count": 16,
   "id": "b5a9c1e7",
   "metadata": {},
   "outputs": [
    {
     "name": "stdout",
     "output_type": "stream",
     "text": [
      "<class 'pandas.core.frame.DataFrame'>\n",
      "RangeIndex: 45211 entries, 0 to 45210\n",
      "Data columns (total 17 columns):\n",
      " #   Column     Non-Null Count  Dtype \n",
      "---  ------     --------------  ----- \n",
      " 0   age        45211 non-null  int64 \n",
      " 1   job        45211 non-null  object\n",
      " 2   marital    45211 non-null  object\n",
      " 3   education  45211 non-null  object\n",
      " 4   default    45211 non-null  object\n",
      " 5   balance    45211 non-null  int64 \n",
      " 6   housing    45211 non-null  object\n",
      " 7   loan       45211 non-null  object\n",
      " 8   contact    45211 non-null  object\n",
      " 9   day        45211 non-null  int64 \n",
      " 10  month      45211 non-null  object\n",
      " 11  duration   45211 non-null  int64 \n",
      " 12  campaign   45211 non-null  int64 \n",
      " 13  pdays      45211 non-null  int64 \n",
      " 14  previous   45211 non-null  int64 \n",
      " 15  poutcome   45211 non-null  object\n",
      " 16  y          45211 non-null  object\n",
      "dtypes: int64(7), object(10)\n",
      "memory usage: 5.9+ MB\n"
     ]
    }
   ],
   "source": [
    "df.info()"
   ]
  },
  {
   "cell_type": "code",
   "execution_count": 10,
   "id": "b923b79c",
   "metadata": {
    "ExecuteTime": {
     "end_time": "2023-10-04T07:28:42.852398Z",
     "start_time": "2023-10-04T07:28:42.789302Z"
    }
   },
   "outputs": [
    {
     "data": {
      "text/html": [
       "<div>\n",
       "<style scoped>\n",
       "    .dataframe tbody tr th:only-of-type {\n",
       "        vertical-align: middle;\n",
       "    }\n",
       "\n",
       "    .dataframe tbody tr th {\n",
       "        vertical-align: top;\n",
       "    }\n",
       "\n",
       "    .dataframe thead th {\n",
       "        text-align: right;\n",
       "    }\n",
       "</style>\n",
       "<table border=\"1\" class=\"dataframe\">\n",
       "  <thead>\n",
       "    <tr style=\"text-align: right;\">\n",
       "      <th></th>\n",
       "      <th>age</th>\n",
       "      <th>balance</th>\n",
       "      <th>day</th>\n",
       "      <th>duration</th>\n",
       "      <th>campaign</th>\n",
       "      <th>pdays</th>\n",
       "      <th>previous</th>\n",
       "    </tr>\n",
       "  </thead>\n",
       "  <tbody>\n",
       "    <tr>\n",
       "      <th>count</th>\n",
       "      <td>45211.000000</td>\n",
       "      <td>45211.000000</td>\n",
       "      <td>45211.000000</td>\n",
       "      <td>45211.000000</td>\n",
       "      <td>45211.000000</td>\n",
       "      <td>45211.000000</td>\n",
       "      <td>45211.000000</td>\n",
       "    </tr>\n",
       "    <tr>\n",
       "      <th>mean</th>\n",
       "      <td>40.936210</td>\n",
       "      <td>1362.272058</td>\n",
       "      <td>15.806419</td>\n",
       "      <td>258.163080</td>\n",
       "      <td>2.763841</td>\n",
       "      <td>40.197828</td>\n",
       "      <td>0.580323</td>\n",
       "    </tr>\n",
       "    <tr>\n",
       "      <th>std</th>\n",
       "      <td>10.618762</td>\n",
       "      <td>3044.765829</td>\n",
       "      <td>8.322476</td>\n",
       "      <td>257.527812</td>\n",
       "      <td>3.098021</td>\n",
       "      <td>100.128746</td>\n",
       "      <td>2.303441</td>\n",
       "    </tr>\n",
       "    <tr>\n",
       "      <th>min</th>\n",
       "      <td>18.000000</td>\n",
       "      <td>-8019.000000</td>\n",
       "      <td>1.000000</td>\n",
       "      <td>0.000000</td>\n",
       "      <td>1.000000</td>\n",
       "      <td>-1.000000</td>\n",
       "      <td>0.000000</td>\n",
       "    </tr>\n",
       "    <tr>\n",
       "      <th>25%</th>\n",
       "      <td>33.000000</td>\n",
       "      <td>72.000000</td>\n",
       "      <td>8.000000</td>\n",
       "      <td>103.000000</td>\n",
       "      <td>1.000000</td>\n",
       "      <td>-1.000000</td>\n",
       "      <td>0.000000</td>\n",
       "    </tr>\n",
       "    <tr>\n",
       "      <th>50%</th>\n",
       "      <td>39.000000</td>\n",
       "      <td>448.000000</td>\n",
       "      <td>16.000000</td>\n",
       "      <td>180.000000</td>\n",
       "      <td>2.000000</td>\n",
       "      <td>-1.000000</td>\n",
       "      <td>0.000000</td>\n",
       "    </tr>\n",
       "    <tr>\n",
       "      <th>75%</th>\n",
       "      <td>48.000000</td>\n",
       "      <td>1428.000000</td>\n",
       "      <td>21.000000</td>\n",
       "      <td>319.000000</td>\n",
       "      <td>3.000000</td>\n",
       "      <td>-1.000000</td>\n",
       "      <td>0.000000</td>\n",
       "    </tr>\n",
       "    <tr>\n",
       "      <th>max</th>\n",
       "      <td>95.000000</td>\n",
       "      <td>102127.000000</td>\n",
       "      <td>31.000000</td>\n",
       "      <td>4918.000000</td>\n",
       "      <td>63.000000</td>\n",
       "      <td>871.000000</td>\n",
       "      <td>275.000000</td>\n",
       "    </tr>\n",
       "  </tbody>\n",
       "</table>\n",
       "</div>"
      ],
      "text/plain": [
       "                age        balance           day      duration      campaign  \\\n",
       "count  45211.000000   45211.000000  45211.000000  45211.000000  45211.000000   \n",
       "mean      40.936210    1362.272058     15.806419    258.163080      2.763841   \n",
       "std       10.618762    3044.765829      8.322476    257.527812      3.098021   \n",
       "min       18.000000   -8019.000000      1.000000      0.000000      1.000000   \n",
       "25%       33.000000      72.000000      8.000000    103.000000      1.000000   \n",
       "50%       39.000000     448.000000     16.000000    180.000000      2.000000   \n",
       "75%       48.000000    1428.000000     21.000000    319.000000      3.000000   \n",
       "max       95.000000  102127.000000     31.000000   4918.000000     63.000000   \n",
       "\n",
       "              pdays      previous  \n",
       "count  45211.000000  45211.000000  \n",
       "mean      40.197828      0.580323  \n",
       "std      100.128746      2.303441  \n",
       "min       -1.000000      0.000000  \n",
       "25%       -1.000000      0.000000  \n",
       "50%       -1.000000      0.000000  \n",
       "75%       -1.000000      0.000000  \n",
       "max      871.000000    275.000000  "
      ]
     },
     "execution_count": 10,
     "metadata": {},
     "output_type": "execute_result"
    }
   ],
   "source": [
    "df.desacribe()"
   ]
  },
  {
   "cell_type": "code",
   "execution_count": 15,
   "id": "eca84d42",
   "metadata": {},
   "outputs": [
    {
     "data": {
      "text/plain": [
       "poutcome\n",
       "unknown    36959\n",
       "failure     4901\n",
       "other       1840\n",
       "success     1511\n",
       "Name: count, dtype: int64"
      ]
     },
     "execution_count": 15,
     "metadata": {},
     "output_type": "execute_result"
    }
   ],
   "source": [
    "df['poutcome'].value_counts()"
   ]
  },
  {
   "cell_type": "code",
   "execution_count": 21,
   "id": "2a2e109a",
   "metadata": {
    "ExecuteTime": {
     "end_time": "2023-10-04T07:28:43.609572Z",
     "start_time": "2023-10-04T07:28:43.586171Z"
    }
   },
   "outputs": [],
   "source": [
    "selectedc = [\n",
    "    'age',\n",
    "    'job',\n",
    "    'marital',\n",
    "    'education',\n",
    "    'balance',\n",
    "    'housing',\n",
    "    'contact',\n",
    "    'day',\n",
    "    'month',\n",
    "    'duration',\n",
    "    'campaign',\n",
    "    'pdays',\n",
    "    'previous',\n",
    "    'poutcome',\n",
    "    'y'\n",
    "]"
   ]
  },
  {
   "cell_type": "code",
   "execution_count": 20,
   "id": "c9e411f1",
   "metadata": {
    "ExecuteTime": {
     "end_time": "2023-10-04T07:28:44.325419Z",
     "start_time": "2023-10-04T07:28:44.310129Z"
    }
   },
   "outputs": [
    {
     "data": {
      "text/plain": [
       "Index(['age', 'job', 'marital', 'education', 'default', 'balance', 'housing',\n",
       "       'loan', 'contact', 'day', 'month', 'duration', 'campaign', 'pdays',\n",
       "       'previous', 'poutcome', 'y'],\n",
       "      dtype='object')"
      ]
     },
     "execution_count": 20,
     "metadata": {},
     "output_type": "execute_result"
    }
   ],
   "source": [
    "df.columns"
   ]
  },
  {
   "cell_type": "code",
   "execution_count": 22,
   "id": "0734a4bd",
   "metadata": {
    "ExecuteTime": {
     "end_time": "2023-10-04T07:28:44.895942Z",
     "start_time": "2023-10-04T07:28:44.879926Z"
    }
   },
   "outputs": [],
   "source": [
    "dfn = df[selectedc]"
   ]
  },
  {
   "cell_type": "code",
   "execution_count": 23,
   "id": "577bd593",
   "metadata": {
    "ExecuteTime": {
     "end_time": "2023-10-04T07:28:45.449020Z",
     "start_time": "2023-10-04T07:28:45.414170Z"
    }
   },
   "outputs": [
    {
     "data": {
      "text/html": [
       "<div>\n",
       "<style scoped>\n",
       "    .dataframe tbody tr th:only-of-type {\n",
       "        vertical-align: middle;\n",
       "    }\n",
       "\n",
       "    .dataframe tbody tr th {\n",
       "        vertical-align: top;\n",
       "    }\n",
       "\n",
       "    .dataframe thead th {\n",
       "        text-align: right;\n",
       "    }\n",
       "</style>\n",
       "<table border=\"1\" class=\"dataframe\">\n",
       "  <thead>\n",
       "    <tr style=\"text-align: right;\">\n",
       "      <th></th>\n",
       "      <th>age</th>\n",
       "      <th>job</th>\n",
       "      <th>marital</th>\n",
       "      <th>education</th>\n",
       "      <th>balance</th>\n",
       "      <th>housing</th>\n",
       "      <th>contact</th>\n",
       "      <th>day</th>\n",
       "      <th>month</th>\n",
       "      <th>duration</th>\n",
       "      <th>campaign</th>\n",
       "      <th>pdays</th>\n",
       "      <th>previous</th>\n",
       "      <th>poutcome</th>\n",
       "      <th>y</th>\n",
       "    </tr>\n",
       "  </thead>\n",
       "  <tbody>\n",
       "    <tr>\n",
       "      <th>0</th>\n",
       "      <td>58</td>\n",
       "      <td>management</td>\n",
       "      <td>married</td>\n",
       "      <td>tertiary</td>\n",
       "      <td>2143</td>\n",
       "      <td>yes</td>\n",
       "      <td>unknown</td>\n",
       "      <td>5</td>\n",
       "      <td>may</td>\n",
       "      <td>261</td>\n",
       "      <td>1</td>\n",
       "      <td>-1</td>\n",
       "      <td>0</td>\n",
       "      <td>unknown</td>\n",
       "      <td>no</td>\n",
       "    </tr>\n",
       "    <tr>\n",
       "      <th>1</th>\n",
       "      <td>44</td>\n",
       "      <td>technician</td>\n",
       "      <td>single</td>\n",
       "      <td>secondary</td>\n",
       "      <td>29</td>\n",
       "      <td>yes</td>\n",
       "      <td>unknown</td>\n",
       "      <td>5</td>\n",
       "      <td>may</td>\n",
       "      <td>151</td>\n",
       "      <td>1</td>\n",
       "      <td>-1</td>\n",
       "      <td>0</td>\n",
       "      <td>unknown</td>\n",
       "      <td>no</td>\n",
       "    </tr>\n",
       "    <tr>\n",
       "      <th>2</th>\n",
       "      <td>33</td>\n",
       "      <td>entrepreneur</td>\n",
       "      <td>married</td>\n",
       "      <td>secondary</td>\n",
       "      <td>2</td>\n",
       "      <td>yes</td>\n",
       "      <td>unknown</td>\n",
       "      <td>5</td>\n",
       "      <td>may</td>\n",
       "      <td>76</td>\n",
       "      <td>1</td>\n",
       "      <td>-1</td>\n",
       "      <td>0</td>\n",
       "      <td>unknown</td>\n",
       "      <td>no</td>\n",
       "    </tr>\n",
       "    <tr>\n",
       "      <th>3</th>\n",
       "      <td>47</td>\n",
       "      <td>blue-collar</td>\n",
       "      <td>married</td>\n",
       "      <td>unknown</td>\n",
       "      <td>1506</td>\n",
       "      <td>yes</td>\n",
       "      <td>unknown</td>\n",
       "      <td>5</td>\n",
       "      <td>may</td>\n",
       "      <td>92</td>\n",
       "      <td>1</td>\n",
       "      <td>-1</td>\n",
       "      <td>0</td>\n",
       "      <td>unknown</td>\n",
       "      <td>no</td>\n",
       "    </tr>\n",
       "    <tr>\n",
       "      <th>4</th>\n",
       "      <td>33</td>\n",
       "      <td>unknown</td>\n",
       "      <td>single</td>\n",
       "      <td>unknown</td>\n",
       "      <td>1</td>\n",
       "      <td>no</td>\n",
       "      <td>unknown</td>\n",
       "      <td>5</td>\n",
       "      <td>may</td>\n",
       "      <td>198</td>\n",
       "      <td>1</td>\n",
       "      <td>-1</td>\n",
       "      <td>0</td>\n",
       "      <td>unknown</td>\n",
       "      <td>no</td>\n",
       "    </tr>\n",
       "  </tbody>\n",
       "</table>\n",
       "</div>"
      ],
      "text/plain": [
       "   age           job  marital  education  balance housing  contact  day month  \\\n",
       "0   58    management  married   tertiary     2143     yes  unknown    5   may   \n",
       "1   44    technician   single  secondary       29     yes  unknown    5   may   \n",
       "2   33  entrepreneur  married  secondary        2     yes  unknown    5   may   \n",
       "3   47   blue-collar  married    unknown     1506     yes  unknown    5   may   \n",
       "4   33       unknown   single    unknown        1      no  unknown    5   may   \n",
       "\n",
       "   duration  campaign  pdays  previous poutcome   y  \n",
       "0       261         1     -1         0  unknown  no  \n",
       "1       151         1     -1         0  unknown  no  \n",
       "2        76         1     -1         0  unknown  no  \n",
       "3        92         1     -1         0  unknown  no  \n",
       "4       198         1     -1         0  unknown  no  "
      ]
     },
     "execution_count": 23,
     "metadata": {},
     "output_type": "execute_result"
    }
   ],
   "source": [
    "dfn.head()"
   ]
  },
  {
   "cell_type": "code",
   "execution_count": 24,
   "id": "46fb576d",
   "metadata": {
    "ExecuteTime": {
     "end_time": "2023-10-04T07:28:54.985572Z",
     "start_time": "2023-10-04T07:28:54.953568Z"
    }
   },
   "outputs": [
    {
     "data": {
      "text/plain": [
       "age          0\n",
       "job          0\n",
       "marital      0\n",
       "education    0\n",
       "balance      0\n",
       "housing      0\n",
       "contact      0\n",
       "day          0\n",
       "month        0\n",
       "duration     0\n",
       "campaign     0\n",
       "pdays        0\n",
       "previous     0\n",
       "poutcome     0\n",
       "y            0\n",
       "dtype: int64"
      ]
     },
     "execution_count": 24,
     "metadata": {},
     "output_type": "execute_result"
    }
   ],
   "source": [
    "dfn.isnull().sum()"
   ]
  },
  {
   "cell_type": "code",
   "execution_count": 38,
   "id": "94a14a50",
   "metadata": {},
   "outputs": [
    {
     "data": {
      "text/plain": [
       "0    secondary\n",
       "Name: education, dtype: object"
      ]
     },
     "execution_count": 38,
     "metadata": {},
     "output_type": "execute_result"
    }
   ],
   "source": [
    "dfn['education'].mode()"
   ]
  },
  {
   "cell_type": "code",
   "execution_count": 39,
   "id": "c4c79e19",
   "metadata": {},
   "outputs": [
    {
     "data": {
      "text/plain": [
       "['age', 'balance', 'day', 'duration', 'campaign', 'pdays', 'previous']"
      ]
     },
     "execution_count": 39,
     "metadata": {},
     "output_type": "execute_result"
    }
   ],
   "source": [
    "num_cols = list(dfn.dtypes[dfn.dtypes != 'object'].index)\n",
    "num_cols"
   ]
  },
  {
   "cell_type": "code",
   "execution_count": 35,
   "id": "8836990f",
   "metadata": {},
   "outputs": [
    {
     "data": {
      "text/html": [
       "<div>\n",
       "<style scoped>\n",
       "    .dataframe tbody tr th:only-of-type {\n",
       "        vertical-align: middle;\n",
       "    }\n",
       "\n",
       "    .dataframe tbody tr th {\n",
       "        vertical-align: top;\n",
       "    }\n",
       "\n",
       "    .dataframe thead th {\n",
       "        text-align: right;\n",
       "    }\n",
       "</style>\n",
       "<table border=\"1\" class=\"dataframe\">\n",
       "  <thead>\n",
       "    <tr style=\"text-align: right;\">\n",
       "      <th></th>\n",
       "      <th>age</th>\n",
       "      <th>balance</th>\n",
       "      <th>day</th>\n",
       "      <th>duration</th>\n",
       "      <th>campaign</th>\n",
       "      <th>pdays</th>\n",
       "      <th>previous</th>\n",
       "    </tr>\n",
       "  </thead>\n",
       "  <tbody>\n",
       "    <tr>\n",
       "      <th>age</th>\n",
       "      <td>1.000000</td>\n",
       "      <td>0.097783</td>\n",
       "      <td>-0.009120</td>\n",
       "      <td>-0.004648</td>\n",
       "      <td>0.004760</td>\n",
       "      <td>-0.023758</td>\n",
       "      <td>0.001288</td>\n",
       "    </tr>\n",
       "    <tr>\n",
       "      <th>balance</th>\n",
       "      <td>0.097783</td>\n",
       "      <td>1.000000</td>\n",
       "      <td>0.004503</td>\n",
       "      <td>0.021560</td>\n",
       "      <td>-0.014578</td>\n",
       "      <td>0.003435</td>\n",
       "      <td>0.016674</td>\n",
       "    </tr>\n",
       "    <tr>\n",
       "      <th>day</th>\n",
       "      <td>-0.009120</td>\n",
       "      <td>0.004503</td>\n",
       "      <td>1.000000</td>\n",
       "      <td>-0.030206</td>\n",
       "      <td>0.162490</td>\n",
       "      <td>-0.093044</td>\n",
       "      <td>-0.051710</td>\n",
       "    </tr>\n",
       "    <tr>\n",
       "      <th>duration</th>\n",
       "      <td>-0.004648</td>\n",
       "      <td>0.021560</td>\n",
       "      <td>-0.030206</td>\n",
       "      <td>1.000000</td>\n",
       "      <td>-0.084570</td>\n",
       "      <td>-0.001565</td>\n",
       "      <td>0.001203</td>\n",
       "    </tr>\n",
       "    <tr>\n",
       "      <th>campaign</th>\n",
       "      <td>0.004760</td>\n",
       "      <td>-0.014578</td>\n",
       "      <td>0.162490</td>\n",
       "      <td>-0.084570</td>\n",
       "      <td>1.000000</td>\n",
       "      <td>-0.088628</td>\n",
       "      <td>-0.032855</td>\n",
       "    </tr>\n",
       "    <tr>\n",
       "      <th>pdays</th>\n",
       "      <td>-0.023758</td>\n",
       "      <td>0.003435</td>\n",
       "      <td>-0.093044</td>\n",
       "      <td>-0.001565</td>\n",
       "      <td>-0.088628</td>\n",
       "      <td>1.000000</td>\n",
       "      <td>0.454820</td>\n",
       "    </tr>\n",
       "    <tr>\n",
       "      <th>previous</th>\n",
       "      <td>0.001288</td>\n",
       "      <td>0.016674</td>\n",
       "      <td>-0.051710</td>\n",
       "      <td>0.001203</td>\n",
       "      <td>-0.032855</td>\n",
       "      <td>0.454820</td>\n",
       "      <td>1.000000</td>\n",
       "    </tr>\n",
       "  </tbody>\n",
       "</table>\n",
       "</div>"
      ],
      "text/plain": [
       "               age   balance       day  duration  campaign     pdays  previous\n",
       "age       1.000000  0.097783 -0.009120 -0.004648  0.004760 -0.023758  0.001288\n",
       "balance   0.097783  1.000000  0.004503  0.021560 -0.014578  0.003435  0.016674\n",
       "day      -0.009120  0.004503  1.000000 -0.030206  0.162490 -0.093044 -0.051710\n",
       "duration -0.004648  0.021560 -0.030206  1.000000 -0.084570 -0.001565  0.001203\n",
       "campaign  0.004760 -0.014578  0.162490 -0.084570  1.000000 -0.088628 -0.032855\n",
       "pdays    -0.023758  0.003435 -0.093044 -0.001565 -0.088628  1.000000  0.454820\n",
       "previous  0.001288  0.016674 -0.051710  0.001203 -0.032855  0.454820  1.000000"
      ]
     },
     "execution_count": 35,
     "metadata": {},
     "output_type": "execute_result"
    }
   ],
   "source": [
    "dfn[num_cols].corr()"
   ]
  },
  {
   "cell_type": "code",
   "execution_count": 44,
   "id": "6ccaee66",
   "metadata": {},
   "outputs": [
    {
     "name": "stderr",
     "output_type": "stream",
     "text": [
      "C:\\Users\\Excellus\\AppData\\Local\\Temp\\ipykernel_17348\\1241618025.py:1: SettingWithCopyWarning: \n",
      "A value is trying to be set on a copy of a slice from a DataFrame.\n",
      "Try using .loc[row_indexer,col_indexer] = value instead\n",
      "\n",
      "See the caveats in the documentation: https://pandas.pydata.org/pandas-docs/stable/user_guide/indexing.html#returning-a-view-versus-a-copy\n",
      "  dfn['y'] = (dfn['y'] == 'yes').astype('int64')\n"
     ]
    }
   ],
   "source": [
    "dfn['y'] = (dfn['y'] == 'yes').astype('int64')"
   ]
  },
  {
   "cell_type": "code",
   "execution_count": 45,
   "id": "8cab5789",
   "metadata": {},
   "outputs": [
    {
     "data": {
      "text/html": [
       "<div>\n",
       "<style scoped>\n",
       "    .dataframe tbody tr th:only-of-type {\n",
       "        vertical-align: middle;\n",
       "    }\n",
       "\n",
       "    .dataframe tbody tr th {\n",
       "        vertical-align: top;\n",
       "    }\n",
       "\n",
       "    .dataframe thead th {\n",
       "        text-align: right;\n",
       "    }\n",
       "</style>\n",
       "<table border=\"1\" class=\"dataframe\">\n",
       "  <thead>\n",
       "    <tr style=\"text-align: right;\">\n",
       "      <th></th>\n",
       "      <th>age</th>\n",
       "      <th>job</th>\n",
       "      <th>marital</th>\n",
       "      <th>education</th>\n",
       "      <th>balance</th>\n",
       "      <th>housing</th>\n",
       "      <th>contact</th>\n",
       "      <th>day</th>\n",
       "      <th>month</th>\n",
       "      <th>duration</th>\n",
       "      <th>campaign</th>\n",
       "      <th>pdays</th>\n",
       "      <th>previous</th>\n",
       "      <th>poutcome</th>\n",
       "      <th>y</th>\n",
       "    </tr>\n",
       "  </thead>\n",
       "  <tbody>\n",
       "    <tr>\n",
       "      <th>0</th>\n",
       "      <td>58</td>\n",
       "      <td>management</td>\n",
       "      <td>married</td>\n",
       "      <td>tertiary</td>\n",
       "      <td>2143</td>\n",
       "      <td>yes</td>\n",
       "      <td>unknown</td>\n",
       "      <td>5</td>\n",
       "      <td>may</td>\n",
       "      <td>261</td>\n",
       "      <td>1</td>\n",
       "      <td>-1</td>\n",
       "      <td>0</td>\n",
       "      <td>unknown</td>\n",
       "      <td>0</td>\n",
       "    </tr>\n",
       "    <tr>\n",
       "      <th>1</th>\n",
       "      <td>44</td>\n",
       "      <td>technician</td>\n",
       "      <td>single</td>\n",
       "      <td>secondary</td>\n",
       "      <td>29</td>\n",
       "      <td>yes</td>\n",
       "      <td>unknown</td>\n",
       "      <td>5</td>\n",
       "      <td>may</td>\n",
       "      <td>151</td>\n",
       "      <td>1</td>\n",
       "      <td>-1</td>\n",
       "      <td>0</td>\n",
       "      <td>unknown</td>\n",
       "      <td>0</td>\n",
       "    </tr>\n",
       "    <tr>\n",
       "      <th>2</th>\n",
       "      <td>33</td>\n",
       "      <td>entrepreneur</td>\n",
       "      <td>married</td>\n",
       "      <td>secondary</td>\n",
       "      <td>2</td>\n",
       "      <td>yes</td>\n",
       "      <td>unknown</td>\n",
       "      <td>5</td>\n",
       "      <td>may</td>\n",
       "      <td>76</td>\n",
       "      <td>1</td>\n",
       "      <td>-1</td>\n",
       "      <td>0</td>\n",
       "      <td>unknown</td>\n",
       "      <td>0</td>\n",
       "    </tr>\n",
       "    <tr>\n",
       "      <th>3</th>\n",
       "      <td>47</td>\n",
       "      <td>blue-collar</td>\n",
       "      <td>married</td>\n",
       "      <td>unknown</td>\n",
       "      <td>1506</td>\n",
       "      <td>yes</td>\n",
       "      <td>unknown</td>\n",
       "      <td>5</td>\n",
       "      <td>may</td>\n",
       "      <td>92</td>\n",
       "      <td>1</td>\n",
       "      <td>-1</td>\n",
       "      <td>0</td>\n",
       "      <td>unknown</td>\n",
       "      <td>0</td>\n",
       "    </tr>\n",
       "    <tr>\n",
       "      <th>4</th>\n",
       "      <td>33</td>\n",
       "      <td>unknown</td>\n",
       "      <td>single</td>\n",
       "      <td>unknown</td>\n",
       "      <td>1</td>\n",
       "      <td>no</td>\n",
       "      <td>unknown</td>\n",
       "      <td>5</td>\n",
       "      <td>may</td>\n",
       "      <td>198</td>\n",
       "      <td>1</td>\n",
       "      <td>-1</td>\n",
       "      <td>0</td>\n",
       "      <td>unknown</td>\n",
       "      <td>0</td>\n",
       "    </tr>\n",
       "  </tbody>\n",
       "</table>\n",
       "</div>"
      ],
      "text/plain": [
       "   age           job  marital  education  balance housing  contact  day month  \\\n",
       "0   58    management  married   tertiary     2143     yes  unknown    5   may   \n",
       "1   44    technician   single  secondary       29     yes  unknown    5   may   \n",
       "2   33  entrepreneur  married  secondary        2     yes  unknown    5   may   \n",
       "3   47   blue-collar  married    unknown     1506     yes  unknown    5   may   \n",
       "4   33       unknown   single    unknown        1      no  unknown    5   may   \n",
       "\n",
       "   duration  campaign  pdays  previous poutcome  y  \n",
       "0       261         1     -1         0  unknown  0  \n",
       "1       151         1     -1         0  unknown  0  \n",
       "2        76         1     -1         0  unknown  0  \n",
       "3        92         1     -1         0  unknown  0  \n",
       "4       198         1     -1         0  unknown  0  "
      ]
     },
     "execution_count": 45,
     "metadata": {},
     "output_type": "execute_result"
    }
   ],
   "source": [
    "dfn.head()"
   ]
  },
  {
   "cell_type": "code",
   "execution_count": 46,
   "id": "dbc387eb",
   "metadata": {
    "ExecuteTime": {
     "end_time": "2023-10-04T07:29:02.382520Z",
     "start_time": "2023-10-04T07:29:02.366365Z"
    }
   },
   "outputs": [
    {
     "data": {
      "text/plain": [
       "Index(['age', 'job', 'marital', 'education', 'balance', 'housing', 'contact',\n",
       "       'day', 'month', 'duration', 'campaign', 'pdays', 'previous', 'poutcome',\n",
       "       'y'],\n",
       "      dtype='object')"
      ]
     },
     "execution_count": 46,
     "metadata": {},
     "output_type": "execute_result"
    }
   ],
   "source": [
    "dfn.columns"
   ]
  },
  {
   "cell_type": "code",
   "execution_count": 47,
   "id": "df1f1522",
   "metadata": {
    "ExecuteTime": {
     "end_time": "2023-10-04T07:29:06.294987Z",
     "start_time": "2023-10-04T07:29:05.346791Z"
    }
   },
   "outputs": [],
   "source": [
    "from sklearn.model_selection import train_test_split"
   ]
  },
  {
   "cell_type": "code",
   "execution_count": 48,
   "id": "8381e6ed",
   "metadata": {
    "ExecuteTime": {
     "end_time": "2023-10-04T07:29:06.744776Z",
     "start_time": "2023-10-04T07:29:06.712825Z"
    }
   },
   "outputs": [],
   "source": [
    "df_full_train, df_test = train_test_split(dfn, test_size=0.2, random_state=42)"
   ]
  },
  {
   "cell_type": "code",
   "execution_count": 49,
   "id": "12f1cfb9",
   "metadata": {
    "ExecuteTime": {
     "end_time": "2023-10-04T07:29:07.643933Z",
     "start_time": "2023-10-04T07:29:07.618978Z"
    }
   },
   "outputs": [],
   "source": [
    "df_train, df_val = train_test_split(df_full_train, test_size=0.25, random_state=42)"
   ]
  },
  {
   "cell_type": "code",
   "execution_count": 50,
   "id": "a1bf82c9",
   "metadata": {
    "ExecuteTime": {
     "end_time": "2023-10-04T07:29:08.402513Z",
     "start_time": "2023-10-04T07:29:08.384516Z"
    }
   },
   "outputs": [
    {
     "data": {
      "text/plain": [
       "(27126, 9043, 9042)"
      ]
     },
     "execution_count": 50,
     "metadata": {},
     "output_type": "execute_result"
    }
   ],
   "source": [
    "len(df_train), len(df_test), len(df_val)"
   ]
  },
  {
   "cell_type": "code",
   "execution_count": 52,
   "id": "969601e8",
   "metadata": {
    "ExecuteTime": {
     "end_time": "2023-10-04T07:29:09.224562Z",
     "start_time": "2023-10-04T07:29:09.192566Z"
    }
   },
   "outputs": [
    {
     "data": {
      "text/html": [
       "<div>\n",
       "<style scoped>\n",
       "    .dataframe tbody tr th:only-of-type {\n",
       "        vertical-align: middle;\n",
       "    }\n",
       "\n",
       "    .dataframe tbody tr th {\n",
       "        vertical-align: top;\n",
       "    }\n",
       "\n",
       "    .dataframe thead th {\n",
       "        text-align: right;\n",
       "    }\n",
       "</style>\n",
       "<table border=\"1\" class=\"dataframe\">\n",
       "  <thead>\n",
       "    <tr style=\"text-align: right;\">\n",
       "      <th></th>\n",
       "      <th>age</th>\n",
       "      <th>job</th>\n",
       "      <th>marital</th>\n",
       "      <th>education</th>\n",
       "      <th>balance</th>\n",
       "      <th>housing</th>\n",
       "      <th>contact</th>\n",
       "      <th>day</th>\n",
       "      <th>month</th>\n",
       "      <th>duration</th>\n",
       "      <th>campaign</th>\n",
       "      <th>pdays</th>\n",
       "      <th>previous</th>\n",
       "      <th>poutcome</th>\n",
       "      <th>y</th>\n",
       "    </tr>\n",
       "  </thead>\n",
       "  <tbody>\n",
       "    <tr>\n",
       "      <th>0</th>\n",
       "      <td>32</td>\n",
       "      <td>technician</td>\n",
       "      <td>single</td>\n",
       "      <td>tertiary</td>\n",
       "      <td>1100</td>\n",
       "      <td>yes</td>\n",
       "      <td>cellular</td>\n",
       "      <td>11</td>\n",
       "      <td>aug</td>\n",
       "      <td>67</td>\n",
       "      <td>1</td>\n",
       "      <td>-1</td>\n",
       "      <td>0</td>\n",
       "      <td>unknown</td>\n",
       "      <td>0</td>\n",
       "    </tr>\n",
       "    <tr>\n",
       "      <th>1</th>\n",
       "      <td>38</td>\n",
       "      <td>entrepreneur</td>\n",
       "      <td>married</td>\n",
       "      <td>secondary</td>\n",
       "      <td>0</td>\n",
       "      <td>yes</td>\n",
       "      <td>cellular</td>\n",
       "      <td>17</td>\n",
       "      <td>nov</td>\n",
       "      <td>258</td>\n",
       "      <td>1</td>\n",
       "      <td>-1</td>\n",
       "      <td>0</td>\n",
       "      <td>unknown</td>\n",
       "      <td>0</td>\n",
       "    </tr>\n",
       "    <tr>\n",
       "      <th>2</th>\n",
       "      <td>49</td>\n",
       "      <td>blue-collar</td>\n",
       "      <td>married</td>\n",
       "      <td>secondary</td>\n",
       "      <td>3309</td>\n",
       "      <td>yes</td>\n",
       "      <td>cellular</td>\n",
       "      <td>15</td>\n",
       "      <td>may</td>\n",
       "      <td>349</td>\n",
       "      <td>2</td>\n",
       "      <td>-1</td>\n",
       "      <td>0</td>\n",
       "      <td>unknown</td>\n",
       "      <td>0</td>\n",
       "    </tr>\n",
       "    <tr>\n",
       "      <th>3</th>\n",
       "      <td>37</td>\n",
       "      <td>housemaid</td>\n",
       "      <td>married</td>\n",
       "      <td>primary</td>\n",
       "      <td>2410</td>\n",
       "      <td>no</td>\n",
       "      <td>cellular</td>\n",
       "      <td>4</td>\n",
       "      <td>aug</td>\n",
       "      <td>315</td>\n",
       "      <td>1</td>\n",
       "      <td>-1</td>\n",
       "      <td>0</td>\n",
       "      <td>unknown</td>\n",
       "      <td>0</td>\n",
       "    </tr>\n",
       "    <tr>\n",
       "      <th>4</th>\n",
       "      <td>31</td>\n",
       "      <td>self-employed</td>\n",
       "      <td>married</td>\n",
       "      <td>tertiary</td>\n",
       "      <td>3220</td>\n",
       "      <td>no</td>\n",
       "      <td>cellular</td>\n",
       "      <td>26</td>\n",
       "      <td>aug</td>\n",
       "      <td>74</td>\n",
       "      <td>4</td>\n",
       "      <td>-1</td>\n",
       "      <td>0</td>\n",
       "      <td>unknown</td>\n",
       "      <td>0</td>\n",
       "    </tr>\n",
       "  </tbody>\n",
       "</table>\n",
       "</div>"
      ],
      "text/plain": [
       "   age            job  marital  education  balance housing   contact  day  \\\n",
       "0   32     technician   single   tertiary     1100     yes  cellular   11   \n",
       "1   38   entrepreneur  married  secondary        0     yes  cellular   17   \n",
       "2   49    blue-collar  married  secondary     3309     yes  cellular   15   \n",
       "3   37      housemaid  married    primary     2410      no  cellular    4   \n",
       "4   31  self-employed  married   tertiary     3220      no  cellular   26   \n",
       "\n",
       "  month  duration  campaign  pdays  previous poutcome  y  \n",
       "0   aug        67         1     -1         0  unknown  0  \n",
       "1   nov       258         1     -1         0  unknown  0  \n",
       "2   may       349         2     -1         0  unknown  0  \n",
       "3   aug       315         1     -1         0  unknown  0  \n",
       "4   aug        74         4     -1         0  unknown  0  "
      ]
     },
     "execution_count": 52,
     "metadata": {},
     "output_type": "execute_result"
    }
   ],
   "source": [
    "df_train = df_train.reset_index(drop=True)\n",
    "df_test = df_test.reset_index(drop=True)\n",
    "df_val = df_val.reset_index(drop=True)\n",
    "df_train.head()"
   ]
  },
  {
   "cell_type": "code",
   "execution_count": 53,
   "id": "47206e7d",
   "metadata": {
    "ExecuteTime": {
     "end_time": "2023-10-04T07:29:10.424560Z",
     "start_time": "2023-10-04T07:29:10.408538Z"
    }
   },
   "outputs": [],
   "source": [
    "y_train = df_train['y']\n",
    "del df_train['y']\n",
    "y_test = df_test['y']\n",
    "del df_test['y']\n",
    "y_val = df_val['y']\n",
    "del df_val['y']"
   ]
  },
  {
   "cell_type": "code",
   "execution_count": 54,
   "id": "f3a02779",
   "metadata": {
    "ExecuteTime": {
     "end_time": "2023-10-04T07:29:11.440793Z",
     "start_time": "2023-10-04T07:29:11.424666Z"
    }
   },
   "outputs": [
    {
     "data": {
      "text/plain": [
       "age           int64\n",
       "job          object\n",
       "marital      object\n",
       "education    object\n",
       "balance       int64\n",
       "housing      object\n",
       "contact      object\n",
       "day           int64\n",
       "month        object\n",
       "duration      int64\n",
       "campaign      int64\n",
       "pdays         int64\n",
       "previous      int64\n",
       "poutcome     object\n",
       "y             int64\n",
       "dtype: object"
      ]
     },
     "execution_count": 54,
     "metadata": {},
     "output_type": "execute_result"
    }
   ],
   "source": [
    "dfn.dtypes"
   ]
  },
  {
   "cell_type": "code",
   "execution_count": 55,
   "id": "a313ab45",
   "metadata": {
    "ExecuteTime": {
     "end_time": "2023-10-04T07:29:12.223338Z",
     "start_time": "2023-10-04T07:29:12.209036Z"
    }
   },
   "outputs": [
    {
     "data": {
      "text/plain": [
       "['job', 'marital', 'education', 'housing', 'contact', 'month', 'poutcome']"
      ]
     },
     "execution_count": 55,
     "metadata": {},
     "output_type": "execute_result"
    }
   ],
   "source": [
    "categorical = list(dfn.dtypes[dfn.dtypes == 'object'].index)\n",
    "categorical"
   ]
  },
  {
   "cell_type": "code",
   "execution_count": 56,
   "id": "d975d51b",
   "metadata": {},
   "outputs": [
    {
     "data": {
      "text/html": [
       "<div>\n",
       "<style scoped>\n",
       "    .dataframe tbody tr th:only-of-type {\n",
       "        vertical-align: middle;\n",
       "    }\n",
       "\n",
       "    .dataframe tbody tr th {\n",
       "        vertical-align: top;\n",
       "    }\n",
       "\n",
       "    .dataframe thead th {\n",
       "        text-align: right;\n",
       "    }\n",
       "</style>\n",
       "<table border=\"1\" class=\"dataframe\">\n",
       "  <thead>\n",
       "    <tr style=\"text-align: right;\">\n",
       "      <th></th>\n",
       "      <th>job</th>\n",
       "      <th>marital</th>\n",
       "      <th>education</th>\n",
       "      <th>housing</th>\n",
       "      <th>contact</th>\n",
       "      <th>month</th>\n",
       "      <th>poutcome</th>\n",
       "    </tr>\n",
       "  </thead>\n",
       "  <tbody>\n",
       "    <tr>\n",
       "      <th>0</th>\n",
       "      <td>management</td>\n",
       "      <td>married</td>\n",
       "      <td>tertiary</td>\n",
       "      <td>yes</td>\n",
       "      <td>unknown</td>\n",
       "      <td>may</td>\n",
       "      <td>unknown</td>\n",
       "    </tr>\n",
       "    <tr>\n",
       "      <th>1</th>\n",
       "      <td>technician</td>\n",
       "      <td>single</td>\n",
       "      <td>secondary</td>\n",
       "      <td>yes</td>\n",
       "      <td>unknown</td>\n",
       "      <td>may</td>\n",
       "      <td>unknown</td>\n",
       "    </tr>\n",
       "    <tr>\n",
       "      <th>2</th>\n",
       "      <td>entrepreneur</td>\n",
       "      <td>married</td>\n",
       "      <td>secondary</td>\n",
       "      <td>yes</td>\n",
       "      <td>unknown</td>\n",
       "      <td>may</td>\n",
       "      <td>unknown</td>\n",
       "    </tr>\n",
       "    <tr>\n",
       "      <th>3</th>\n",
       "      <td>blue-collar</td>\n",
       "      <td>married</td>\n",
       "      <td>unknown</td>\n",
       "      <td>yes</td>\n",
       "      <td>unknown</td>\n",
       "      <td>may</td>\n",
       "      <td>unknown</td>\n",
       "    </tr>\n",
       "    <tr>\n",
       "      <th>4</th>\n",
       "      <td>unknown</td>\n",
       "      <td>single</td>\n",
       "      <td>unknown</td>\n",
       "      <td>no</td>\n",
       "      <td>unknown</td>\n",
       "      <td>may</td>\n",
       "      <td>unknown</td>\n",
       "    </tr>\n",
       "    <tr>\n",
       "      <th>...</th>\n",
       "      <td>...</td>\n",
       "      <td>...</td>\n",
       "      <td>...</td>\n",
       "      <td>...</td>\n",
       "      <td>...</td>\n",
       "      <td>...</td>\n",
       "      <td>...</td>\n",
       "    </tr>\n",
       "    <tr>\n",
       "      <th>45206</th>\n",
       "      <td>technician</td>\n",
       "      <td>married</td>\n",
       "      <td>tertiary</td>\n",
       "      <td>no</td>\n",
       "      <td>cellular</td>\n",
       "      <td>nov</td>\n",
       "      <td>unknown</td>\n",
       "    </tr>\n",
       "    <tr>\n",
       "      <th>45207</th>\n",
       "      <td>retired</td>\n",
       "      <td>divorced</td>\n",
       "      <td>primary</td>\n",
       "      <td>no</td>\n",
       "      <td>cellular</td>\n",
       "      <td>nov</td>\n",
       "      <td>unknown</td>\n",
       "    </tr>\n",
       "    <tr>\n",
       "      <th>45208</th>\n",
       "      <td>retired</td>\n",
       "      <td>married</td>\n",
       "      <td>secondary</td>\n",
       "      <td>no</td>\n",
       "      <td>cellular</td>\n",
       "      <td>nov</td>\n",
       "      <td>success</td>\n",
       "    </tr>\n",
       "    <tr>\n",
       "      <th>45209</th>\n",
       "      <td>blue-collar</td>\n",
       "      <td>married</td>\n",
       "      <td>secondary</td>\n",
       "      <td>no</td>\n",
       "      <td>telephone</td>\n",
       "      <td>nov</td>\n",
       "      <td>unknown</td>\n",
       "    </tr>\n",
       "    <tr>\n",
       "      <th>45210</th>\n",
       "      <td>entrepreneur</td>\n",
       "      <td>married</td>\n",
       "      <td>secondary</td>\n",
       "      <td>no</td>\n",
       "      <td>cellular</td>\n",
       "      <td>nov</td>\n",
       "      <td>other</td>\n",
       "    </tr>\n",
       "  </tbody>\n",
       "</table>\n",
       "<p>45211 rows × 7 columns</p>\n",
       "</div>"
      ],
      "text/plain": [
       "                job   marital  education housing    contact month poutcome\n",
       "0        management   married   tertiary     yes    unknown   may  unknown\n",
       "1        technician    single  secondary     yes    unknown   may  unknown\n",
       "2      entrepreneur   married  secondary     yes    unknown   may  unknown\n",
       "3       blue-collar   married    unknown     yes    unknown   may  unknown\n",
       "4           unknown    single    unknown      no    unknown   may  unknown\n",
       "...             ...       ...        ...     ...        ...   ...      ...\n",
       "45206    technician   married   tertiary      no   cellular   nov  unknown\n",
       "45207       retired  divorced    primary      no   cellular   nov  unknown\n",
       "45208       retired   married  secondary      no   cellular   nov  success\n",
       "45209   blue-collar   married  secondary      no  telephone   nov  unknown\n",
       "45210  entrepreneur   married  secondary      no   cellular   nov    other\n",
       "\n",
       "[45211 rows x 7 columns]"
      ]
     },
     "execution_count": 56,
     "metadata": {},
     "output_type": "execute_result"
    }
   ],
   "source": [
    "dfn[categorical]"
   ]
  },
  {
   "cell_type": "code",
   "execution_count": 57,
   "id": "e869550f",
   "metadata": {
    "ExecuteTime": {
     "end_time": "2023-10-04T07:29:13.721367Z",
     "start_time": "2023-10-04T07:29:13.705236Z"
    }
   },
   "outputs": [],
   "source": [
    "from sklearn.metrics import mutual_info_score"
   ]
  },
  {
   "cell_type": "code",
   "execution_count": 63,
   "id": "7b898871",
   "metadata": {
    "ExecuteTime": {
     "end_time": "2023-10-04T07:29:14.570576Z",
     "start_time": "2023-10-04T07:29:14.546548Z"
    }
   },
   "outputs": [],
   "source": [
    "def mutual_info_average(series):\n",
    "    return round(mutual_info_score(series, df_full_train['y']), 2)"
   ]
  },
  {
   "cell_type": "code",
   "execution_count": 64,
   "id": "be2f5a87",
   "metadata": {
    "ExecuteTime": {
     "end_time": "2023-10-04T07:29:15.387357Z",
     "start_time": "2023-10-04T07:29:15.290817Z"
    }
   },
   "outputs": [
    {
     "data": {
      "text/plain": [
       "job          0.01\n",
       "marital      0.00\n",
       "education    0.00\n",
       "housing      0.01\n",
       "contact      0.01\n",
       "month        0.02\n",
       "poutcome     0.03\n",
       "dtype: float64"
      ]
     },
     "execution_count": 64,
     "metadata": {},
     "output_type": "execute_result"
    }
   ],
   "source": [
    "df_full_train[categorical].apply(mutual_info_average)"
   ]
  },
  {
   "cell_type": "code",
   "execution_count": 65,
   "id": "59df72c3",
   "metadata": {
    "ExecuteTime": {
     "end_time": "2023-10-04T07:29:16.127603Z",
     "start_time": "2023-10-04T07:29:16.052968Z"
    }
   },
   "outputs": [],
   "source": [
    "from sklearn.feature_extraction import DictVectorizer"
   ]
  },
  {
   "cell_type": "code",
   "execution_count": 66,
   "id": "c362e707",
   "metadata": {
    "ExecuteTime": {
     "end_time": "2023-10-04T07:29:16.735729Z",
     "start_time": "2023-10-04T07:29:16.720279Z"
    }
   },
   "outputs": [],
   "source": [
    "dv = DictVectorizer(sparse=False) "
   ]
  },
  {
   "cell_type": "code",
   "execution_count": 68,
   "id": "251857fa",
   "metadata": {
    "ExecuteTime": {
     "end_time": "2023-10-04T07:29:18.211450Z",
     "start_time": "2023-10-04T07:29:17.485008Z"
    }
   },
   "outputs": [
    {
     "data": {
      "text/plain": [
       "[{'age': 32,\n",
       "  'job': 'technician',\n",
       "  'marital': 'single',\n",
       "  'education': 'tertiary',\n",
       "  'balance': 1100,\n",
       "  'housing': 'yes',\n",
       "  'contact': 'cellular',\n",
       "  'day': 11,\n",
       "  'month': 'aug',\n",
       "  'duration': 67,\n",
       "  'campaign': 1,\n",
       "  'pdays': -1,\n",
       "  'previous': 0,\n",
       "  'poutcome': 'unknown'},\n",
       " {'age': 38,\n",
       "  'job': 'entrepreneur',\n",
       "  'marital': 'married',\n",
       "  'education': 'secondary',\n",
       "  'balance': 0,\n",
       "  'housing': 'yes',\n",
       "  'contact': 'cellular',\n",
       "  'day': 17,\n",
       "  'month': 'nov',\n",
       "  'duration': 258,\n",
       "  'campaign': 1,\n",
       "  'pdays': -1,\n",
       "  'previous': 0,\n",
       "  'poutcome': 'unknown'},\n",
       " {'age': 49,\n",
       "  'job': 'blue-collar',\n",
       "  'marital': 'married',\n",
       "  'education': 'secondary',\n",
       "  'balance': 3309,\n",
       "  'housing': 'yes',\n",
       "  'contact': 'cellular',\n",
       "  'day': 15,\n",
       "  'month': 'may',\n",
       "  'duration': 349,\n",
       "  'campaign': 2,\n",
       "  'pdays': -1,\n",
       "  'previous': 0,\n",
       "  'poutcome': 'unknown'},\n",
       " {'age': 37,\n",
       "  'job': 'housemaid',\n",
       "  'marital': 'married',\n",
       "  'education': 'primary',\n",
       "  'balance': 2410,\n",
       "  'housing': 'no',\n",
       "  'contact': 'cellular',\n",
       "  'day': 4,\n",
       "  'month': 'aug',\n",
       "  'duration': 315,\n",
       "  'campaign': 1,\n",
       "  'pdays': -1,\n",
       "  'previous': 0,\n",
       "  'poutcome': 'unknown'},\n",
       " {'age': 31,\n",
       "  'job': 'self-employed',\n",
       "  'marital': 'married',\n",
       "  'education': 'tertiary',\n",
       "  'balance': 3220,\n",
       "  'housing': 'no',\n",
       "  'contact': 'cellular',\n",
       "  'day': 26,\n",
       "  'month': 'aug',\n",
       "  'duration': 74,\n",
       "  'campaign': 4,\n",
       "  'pdays': -1,\n",
       "  'previous': 0,\n",
       "  'poutcome': 'unknown'},\n",
       " {'age': 32,\n",
       "  'job': 'services',\n",
       "  'marital': 'single',\n",
       "  'education': 'secondary',\n",
       "  'balance': 11287,\n",
       "  'housing': 'yes',\n",
       "  'contact': 'cellular',\n",
       "  'day': 21,\n",
       "  'month': 'nov',\n",
       "  'duration': 92,\n",
       "  'campaign': 7,\n",
       "  'pdays': -1,\n",
       "  'previous': 0,\n",
       "  'poutcome': 'unknown'},\n",
       " {'age': 35,\n",
       "  'job': 'management',\n",
       "  'marital': 'married',\n",
       "  'education': 'tertiary',\n",
       "  'balance': 0,\n",
       "  'housing': 'yes',\n",
       "  'contact': 'cellular',\n",
       "  'day': 11,\n",
       "  'month': 'nov',\n",
       "  'duration': 229,\n",
       "  'campaign': 2,\n",
       "  'pdays': 96,\n",
       "  'previous': 3,\n",
       "  'poutcome': 'success'},\n",
       " {'age': 39,\n",
       "  'job': 'management',\n",
       "  'marital': 'married',\n",
       "  'education': 'tertiary',\n",
       "  'balance': -17,\n",
       "  'housing': 'yes',\n",
       "  'contact': 'cellular',\n",
       "  'day': 28,\n",
       "  'month': 'aug',\n",
       "  'duration': 908,\n",
       "  'campaign': 1,\n",
       "  'pdays': -1,\n",
       "  'previous': 0,\n",
       "  'poutcome': 'unknown'},\n",
       " {'age': 60,\n",
       "  'job': 'technician',\n",
       "  'marital': 'single',\n",
       "  'education': 'tertiary',\n",
       "  'balance': 2934,\n",
       "  'housing': 'no',\n",
       "  'contact': 'cellular',\n",
       "  'day': 8,\n",
       "  'month': 'aug',\n",
       "  'duration': 233,\n",
       "  'campaign': 2,\n",
       "  'pdays': -1,\n",
       "  'previous': 0,\n",
       "  'poutcome': 'unknown'},\n",
       " {'age': 48,\n",
       "  'job': 'blue-collar',\n",
       "  'marital': 'married',\n",
       "  'education': 'secondary',\n",
       "  'balance': 3,\n",
       "  'housing': 'no',\n",
       "  'contact': 'cellular',\n",
       "  'day': 19,\n",
       "  'month': 'aug',\n",
       "  'duration': 289,\n",
       "  'campaign': 2,\n",
       "  'pdays': -1,\n",
       "  'previous': 0,\n",
       "  'poutcome': 'unknown'}]"
      ]
     },
     "execution_count": 68,
     "metadata": {},
     "output_type": "execute_result"
    }
   ],
   "source": [
    "train_dict = df_train.to_dict(orient= 'records')\n",
    "train_dict[:10]"
   ]
  },
  {
   "cell_type": "code",
   "execution_count": 36,
   "id": "273b934c",
   "metadata": {
    "ExecuteTime": {
     "end_time": "2023-10-04T07:29:41.694581Z",
     "start_time": "2023-10-04T07:29:41.436160Z"
    }
   },
   "outputs": [
    {
     "data": {
      "text/plain": [
       "array([[1.500e+01, 6.000e+00, 2.250e+02, ..., 0.000e+00, 0.000e+00,\n",
       "        2.011e+03],\n",
       "       [1.700e+01, 6.000e+00, 2.760e+02, ..., 0.000e+00, 0.000e+00,\n",
       "        2.009e+03],\n",
       "       [1.200e+01, 1.000e+01, 5.700e+02, ..., 0.000e+00, 0.000e+00,\n",
       "        2.012e+03],\n",
       "       ...,\n",
       "       [1.700e+01, 6.000e+00, 2.600e+02, ..., 0.000e+00, 0.000e+00,\n",
       "        2.012e+03],\n",
       "       [1.900e+01, 4.000e+00, 1.360e+02, ..., 0.000e+00, 0.000e+00,\n",
       "        1.993e+03],\n",
       "       [1.700e+01, 6.000e+00, 3.650e+02, ..., 1.000e+00, 0.000e+00,\n",
       "        2.015e+03]])"
      ]
     },
     "execution_count": 36,
     "metadata": {},
     "output_type": "execute_result"
    }
   ],
   "source": [
    "X_train = dv.fit_transform(train_dict)\n",
    "X_train"
   ]
  },
  {
   "cell_type": "code",
   "execution_count": 37,
   "id": "b7dd86d5",
   "metadata": {
    "ExecuteTime": {
     "end_time": "2023-10-04T07:29:43.775611Z",
     "start_time": "2023-10-04T07:29:43.587233Z"
    }
   },
   "outputs": [],
   "source": [
    "val_dict = df_val.to_dict(orient= 'records')\n",
    "X_val = dv.transform(val_dict)\n",
    "test_dict = df_test.to_dict(orient= 'records')\n",
    "X_test = dv.transform(test_dict)"
   ]
  },
  {
   "cell_type": "code",
   "execution_count": 38,
   "id": "93dc652f",
   "metadata": {
    "ExecuteTime": {
     "end_time": "2023-10-04T07:29:45.074083Z",
     "start_time": "2023-10-04T07:29:45.048707Z"
    }
   },
   "outputs": [
    {
     "data": {
      "text/plain": [
       "array([[1.300e+01, 6.000e+00, 2.750e+02, ..., 0.000e+00, 0.000e+00,\n",
       "        2.005e+03],\n",
       "       [2.500e+01, 4.000e+00, 1.700e+02, ..., 1.000e+00, 0.000e+00,\n",
       "        2.016e+03],\n",
       "       [1.900e+01, 6.000e+00, 2.480e+02, ..., 0.000e+00, 0.000e+00,\n",
       "        2.016e+03],\n",
       "       ...,\n",
       "       [2.400e+01, 4.000e+00, 1.500e+02, ..., 1.000e+00, 0.000e+00,\n",
       "        2.015e+03],\n",
       "       [2.300e+01, 5.000e+00, 1.700e+02, ..., 0.000e+00, 1.000e+00,\n",
       "        2.014e+03],\n",
       "       [2.400e+01, 6.000e+00, 2.550e+02, ..., 0.000e+00, 0.000e+00,\n",
       "        2.015e+03]])"
      ]
     },
     "execution_count": 38,
     "metadata": {},
     "output_type": "execute_result"
    }
   ],
   "source": [
    "X_test"
   ]
  },
  {
   "cell_type": "code",
   "execution_count": 39,
   "id": "808441ff",
   "metadata": {
    "ExecuteTime": {
     "end_time": "2023-10-04T07:29:50.869186Z",
     "start_time": "2023-10-04T07:29:50.419308Z"
    }
   },
   "outputs": [],
   "source": [
    "from sklearn.linear_model import LogisticRegression"
   ]
  },
  {
   "cell_type": "code",
   "execution_count": 40,
   "id": "77d05e58",
   "metadata": {
    "ExecuteTime": {
     "end_time": "2023-10-04T07:29:51.285117Z",
     "start_time": "2023-10-04T07:29:51.269521Z"
    }
   },
   "outputs": [],
   "source": [
    "model = LogisticRegression(solver='liblinear', C=10, max_iter=1000, random_state=42)"
   ]
  },
  {
   "cell_type": "code",
   "execution_count": 41,
   "id": "95f0f3a4",
   "metadata": {
    "ExecuteTime": {
     "end_time": "2023-10-04T07:29:52.151105Z",
     "start_time": "2023-10-04T07:29:52.034417Z"
    }
   },
   "outputs": [
    {
     "data": {
      "text/plain": [
       "LogisticRegression(C=10, max_iter=1000, random_state=42, solver='liblinear')"
      ]
     },
     "execution_count": 41,
     "metadata": {},
     "output_type": "execute_result"
    }
   ],
   "source": [
    "model.fit(X_train, y_train)"
   ]
  },
  {
   "cell_type": "code",
   "execution_count": 42,
   "id": "a827ab2a",
   "metadata": {
    "ExecuteTime": {
     "end_time": "2023-10-04T07:29:52.841772Z",
     "start_time": "2023-10-04T07:29:52.825989Z"
    }
   },
   "outputs": [
    {
     "data": {
      "text/plain": [
       "-9.658766624208182e-05"
      ]
     },
     "execution_count": 42,
     "metadata": {},
     "output_type": "execute_result"
    }
   ],
   "source": [
    "model.intercept_[0]"
   ]
  },
  {
   "cell_type": "code",
   "execution_count": 43,
   "id": "4b587780",
   "metadata": {
    "ExecuteTime": {
     "end_time": "2023-10-04T07:29:53.825565Z",
     "start_time": "2023-10-04T07:29:53.785549Z"
    }
   },
   "outputs": [
    {
     "data": {
      "text/plain": [
       "array([-4.11929852e-03, -7.70422528e-04, -2.34840078e-03, -3.65829166e-03,\n",
       "       -4.36374719e-04,  8.17137188e-09,  5.67310553e-09, -5.68823880e-06,\n",
       "        2.77909911e-04,  2.70534500e-09, -3.14938692e-10,  2.79201788e-05,\n",
       "       -9.77845187e-05, -1.95218229e-04,  1.49215080e-04, -1.03549690e-04,\n",
       "       -4.88850074e-08,  2.18875832e-09,  1.35618983e-04,  2.90223708e-04,\n",
       "        1.12189903e-05, -5.71867022e-06, -1.01015411e-05,  1.15234778e-05,\n",
       "       -3.75067171e-05, -1.58301636e-04,  1.76431047e-09,  4.92020025e-05,\n",
       "       -1.76676171e-04,  1.31665603e-06,  3.74616179e-08,  7.89761481e-09,\n",
       "        2.73301839e-10,  1.45306541e-06,  1.51128889e-10,  4.67039667e-05,\n",
       "       -9.62089944e-07,  4.67932944e-04, -4.83995323e-07,  4.57113433e-08,\n",
       "       -4.31153439e-07,  7.18548030e-08,  1.00003017e-09, -2.89431845e-04,\n",
       "       -3.82885844e-08,  2.18399485e-10, -5.14585175e-05, -2.19680573e-07,\n",
       "        4.19821986e-09,  3.42522758e-04, -4.26245834e-05, -2.96919173e-04,\n",
       "        1.35107760e-04, -2.64972814e-09, -4.98971239e-09, -5.90003750e-10,\n",
       "       -4.13428880e-09, -6.45227206e-07, -3.82888730e-08, -1.17616616e-09,\n",
       "       -5.91074428e-10, -9.43056751e-10, -3.53448157e-08,  3.91007795e-05,\n",
       "        2.86116070e-06,  2.76458001e-05, -4.74961574e-09, -1.91363477e-09,\n",
       "       -3.01503200e-08, -1.52029826e-09, -1.18241377e-09, -5.93896846e-10,\n",
       "        3.38816023e-05,  3.60691407e-10,  3.26898846e-06,  2.39285488e-04,\n",
       "        4.46750404e-06, -5.90863942e-10, -5.91110626e-10,  1.40440832e-10,\n",
       "        1.28074206e-10,  8.17137188e-09,  1.74111501e-05, -7.82664118e-09,\n",
       "        3.42771934e-08,  6.06992595e-09, -9.29121955e-09, -1.55519934e-09,\n",
       "       -7.29831986e-09, -1.25691171e-08, -1.47366385e-08,  1.40272081e-10,\n",
       "       -8.92160153e-10,  9.27601742e-11,  8.18783216e-11,  3.55276978e-10,\n",
       "        9.72868566e-11, -1.42475163e-08,  5.29681680e-09,  2.24496211e-09,\n",
       "       -9.25850160e-10, -1.18225353e-09,  5.54809611e-11,  1.80541665e-10,\n",
       "       -4.88285798e-09,  2.79905075e-09, -2.36278057e-09, -2.95494622e-10,\n",
       "       -2.94868024e-10, -1.01449176e-09, -1.47698262e-09, -4.69256994e-09,\n",
       "       -6.65310988e-09, -2.95413150e-05, -4.74352541e-06, -7.93768156e-05,\n",
       "       -1.12620551e-05, -1.64495312e-04, -1.76445846e-09, -4.11176465e-09,\n",
       "       -2.05717397e-09,  6.22614397e-09, -3.44624921e-10, -5.87495299e-10,\n",
       "       -3.53581261e-09, -9.19842325e-10, -8.80934814e-10, -9.84138288e-10,\n",
       "        2.64410082e-05,  2.44689785e-05, -1.31465029e-04,  1.21125610e-07,\n",
       "        4.45127221e-09,  1.73609028e-09,  3.00132397e-10,  7.42855304e-10,\n",
       "        1.29712167e-10,  2.12412426e-05, -1.19710410e-04,  1.07548809e-04,\n",
       "        1.90932722e-07, -5.39534959e-09, -8.85360679e-10, -1.80476555e-07,\n",
       "       -1.28287913e-07, -1.67767336e-08, -1.03355355e-05, -1.17543525e-09,\n",
       "        2.42489771e-09,  6.78786933e-10,  5.85285569e-10, -1.21030380e-08,\n",
       "       -2.64709742e-09, -1.58623461e-08, -2.94470527e-10, -3.45665859e-08,\n",
       "       -4.13994502e-09, -3.44348101e-09,  9.54300003e-07,  3.28353923e-10,\n",
       "       -1.54021402e-07, -1.18034368e-09, -8.35917860e-09, -5.49475696e-09,\n",
       "       -4.41018586e-08, -6.90186434e-05, -3.85342920e-07,  4.60980511e-06,\n",
       "       -8.25227600e-09,  3.14047412e-10, -5.70749133e-09, -1.62248773e-04,\n",
       "       -5.91128306e-10, -2.40827598e-06, -3.37809959e-09,  1.58309783e-10,\n",
       "        4.82273778e-11,  2.07437204e-06, -6.31662067e-09, -7.01537860e-09,\n",
       "       -7.48252171e-09, -8.49210640e-07, -1.09088367e-08, -1.14830505e-08,\n",
       "       -1.08486609e-07, -5.77243420e-07, -1.47191641e-09,  2.55545367e-06,\n",
       "        4.69272273e-09, -1.53802823e-08, -1.10633520e-07, -2.82270385e-05,\n",
       "        1.90319743e-08, -1.35121405e-07, -2.93282015e-10, -1.50243734e-09,\n",
       "       -1.47773471e-09,  1.02828880e-10, -1.18060952e-09,  6.35725801e-05,\n",
       "       -9.14222726e-09, -9.99906965e-09, -1.51982549e-09, -6.88870104e-09,\n",
       "       -3.35282404e-10, -9.43998172e-06,  2.18399485e-10, -1.55584914e-06,\n",
       "       -2.48863470e-08,  4.92937125e-10, -1.16375361e-08,  7.08685489e-08,\n",
       "        3.70301626e-09, -8.83439209e-08, -1.74777761e-08,  1.21971897e-08,\n",
       "        1.05685351e-07, -1.50565288e-07, -5.75588306e-07,  1.39785144e-09,\n",
       "        1.75061550e-09,  2.13216574e-09, -8.72818215e-09, -3.58333200e-08,\n",
       "       -5.07122064e-08,  1.85523261e-06, -1.01640669e-08, -8.96634384e-10,\n",
       "       -8.13506203e-07, -8.12257868e-09,  2.04736180e-05, -4.66675007e-08,\n",
       "       -1.90207880e-08, -3.18873061e-08, -5.48467994e-07, -1.17374921e-09,\n",
       "       -9.91943182e-09, -6.39119652e-09,  3.70921467e-11, -1.61829843e-07,\n",
       "       -6.76433730e-09, -6.77822052e-09,  3.73686581e-09,  6.16820146e-09,\n",
       "        1.58541729e-09, -2.95590271e-10, -1.25502160e-08, -2.00434012e-09,\n",
       "       -2.67778967e-05, -3.34008589e-05, -1.76015544e-09, -3.26173173e-09,\n",
       "       -5.17637856e-08, -1.18467903e-09, -1.18182578e-09, -8.02998180e-10,\n",
       "       -9.87686232e-09, -1.93473381e-07, -5.90474124e-09, -1.24353108e-08,\n",
       "       -5.43331231e-05,  8.34287255e-11,  1.48310802e-10,  7.93439530e-10,\n",
       "        1.46162072e-10,  6.73444826e-11,  1.50940473e-10,  6.87599679e-11,\n",
       "        6.24711823e-11,  1.20742533e-10, -1.17553744e-09,  4.86629312e-11,\n",
       "       -1.91578816e-08, -1.51095140e-09, -5.89336250e-10,  2.78257864e-08,\n",
       "        2.09484801e-09,  2.04011042e-10, -2.94366401e-10, -2.59174006e-06,\n",
       "       -5.15225593e-07, -5.76118479e-09, -8.07618271e-09, -1.87611383e-08,\n",
       "       -6.39671869e-09, -4.51927655e-09, -2.94880406e-10, -5.88598680e-10,\n",
       "       -2.95346156e-09, -1.76825008e-09, -1.76309564e-09,  3.89119172e-10,\n",
       "        6.79903331e-11,  4.82576533e-10,  7.82203290e-08, -1.05901718e-07,\n",
       "       -1.24806499e-08,  5.22838152e-11, -3.54288110e-09,  2.04575326e-07,\n",
       "       -2.67680101e-05,  5.81730397e-11, -9.60283350e-09,  5.64264498e-05,\n",
       "       -9.51069031e-08,  6.36162744e-06,  5.73711307e-05, -8.85474588e-10,\n",
       "       -1.17933018e-09, -1.46578365e-09,  5.81286296e-08, -4.61973554e-08,\n",
       "       -2.12295400e-07, -3.36656180e-10, -2.63888071e-09, -2.95073782e-10,\n",
       "       -1.37037768e-08, -1.68672553e-04,  1.57698565e-04, -4.50313497e-07,\n",
       "       -8.11623035e-09, -2.62067448e-08, -7.88301647e-07, -2.05670237e-09,\n",
       "       -1.76359119e-09, -1.39993037e-08, -2.44793638e-09, -3.07063194e-09,\n",
       "       -5.69752331e-09,  1.48782696e-07, -5.90350071e-10, -1.08340460e-08,\n",
       "        2.91811832e-08, -1.76179131e-06, -4.67317684e-08, -3.43256687e-08,\n",
       "       -7.30319185e-09, -2.60719210e-06, -1.14309804e-06, -4.96302807e-07,\n",
       "       -7.44752182e-08, -4.11581103e-06, -2.09596879e-08, -4.96311176e-08,\n",
       "        1.96544136e-09,  8.83584057e-09,  4.57799109e-09,  3.19169308e-09,\n",
       "        3.40827101e-09, -2.39350585e-08, -7.64273009e-08, -2.59609511e-09,\n",
       "        5.54802180e-10, -1.03762970e-08, -4.46461762e-09,  4.66437944e-09,\n",
       "       -1.47880049e-09,  3.06125311e-09,  3.09684027e-05,  7.23177938e-06,\n",
       "       -1.94015641e-08, -1.69983683e-07, -1.76824359e-09, -3.88508644e-07,\n",
       "       -1.17477140e-08,  2.97040177e-04, -1.75395504e-08, -3.35929527e-10,\n",
       "       -7.35546802e-09,  1.09539860e-10,  6.85376811e-10,  1.16318322e-10,\n",
       "       -1.60619455e-08, -1.64443498e-08,  1.00773540e-06, -5.06849696e-06,\n",
       "        7.25818322e-09,  1.60292622e-09, -8.88230140e-10, -7.61789940e-09,\n",
       "       -1.75194632e-08, -7.26911980e-09, -1.75232038e-08, -5.85628547e-10,\n",
       "       -3.90295756e-05,  1.48745044e-10, -1.33153047e-08, -4.15977519e-09,\n",
       "       -1.21214500e-08, -5.10971138e-08, -1.19661722e-08, -1.18347311e-09,\n",
       "       -1.37023414e-08, -2.41659049e-08, -2.98267329e-08, -2.89064194e-07,\n",
       "       -1.09237976e-07, -1.23530233e-07,  5.78741315e-08, -1.69320272e-05,\n",
       "       -6.99624847e-05,  3.47281756e-10, -4.62822505e-09, -5.27526991e-10,\n",
       "       -1.10847286e-07, -1.26386481e-07,  1.18491864e-07, -1.83421031e-06,\n",
       "        8.10513248e-08, -2.21278163e-09, -2.39465902e-08, -1.67890215e-07,\n",
       "        1.12189903e-05,  4.48743864e-09, -1.23907542e-08, -1.57655895e-06,\n",
       "        1.76378657e-08,  1.26976133e-09, -2.46077282e-08, -1.77158147e-05,\n",
       "        3.95180600e-10,  7.74324073e-08, -2.85250890e-06,  4.25440837e-08,\n",
       "       -6.18329706e-10,  5.23064673e-09,  2.33864782e-09,  9.23318270e-09,\n",
       "        2.07740391e-10,  1.13846455e-09, -1.44606229e-07, -1.50625148e-08,\n",
       "        7.48199284e-09,  5.61992166e-08, -4.03759983e-09,  1.06724800e-09,\n",
       "        1.77145778e-05, -7.92871715e-08,  2.35760600e-09,  1.88372132e-10,\n",
       "        1.71989723e-10, -2.61183783e-08, -3.80621420e-09, -1.55209048e-07,\n",
       "       -2.74864727e-06, -3.61573136e-08,  6.37049945e-10,  6.25895828e-10,\n",
       "        7.38062204e-10, -8.16918046e-09, -2.77956808e-08, -1.33041906e-08,\n",
       "       -1.04665561e-08, -1.47346295e-09, -3.43794408e-06, -2.28072615e-06,\n",
       "       -9.74738733e-09, -1.02255036e-08, -1.54056252e-05,  2.70276094e-05,\n",
       "        2.56455612e-08, -2.96161239e-10,  2.07402874e-10, -1.27472234e-08,\n",
       "       -8.42770690e-09, -6.15093598e-08, -3.20771035e-09, -3.57165038e-07,\n",
       "       -1.95376197e-06,  3.73321525e-07, -1.57752541e-08,  5.87865940e-05,\n",
       "        2.22983224e-08,  1.21764379e-09,  4.28875949e-05, -9.96145702e-09,\n",
       "       -2.94928734e-10, -2.01055380e-08, -2.76593134e-07, -8.69696627e-09,\n",
       "       -1.00218990e-08, -6.95835714e-09, -6.51479537e-09, -1.17300256e-09,\n",
       "        1.29453449e-05, -7.51174682e-08, -7.44328614e-08, -2.03678104e-08,\n",
       "       -4.45261162e-08, -5.05361698e-08, -8.65511642e-08, -3.57024233e-08,\n",
       "       -1.47969222e-09,  1.16428275e-08, -2.99468103e-08,  4.64921140e-11,\n",
       "       -3.41123971e-09,  3.12946079e-06,  4.44440132e-08,  9.05144613e-09,\n",
       "       -1.05019622e-04, -6.36358770e-10,  2.20850040e-09,  4.40861726e-09,\n",
       "        1.48905478e-10, -5.89655938e-10, -1.77169409e-09, -3.18689352e-10,\n",
       "        8.78601316e-10,  9.35237003e-10, -3.44711270e-06, -6.29892887e-09,\n",
       "       -6.45254958e-07, -4.13160694e-09,  3.40326993e-10, -2.06230784e-09,\n",
       "       -1.76977330e-09, -1.77584630e-09, -5.65701496e-09, -1.24175719e-07,\n",
       "       -2.43751094e-08, -3.83460817e-09,  3.57734461e-10, -1.47782624e-09,\n",
       "        4.51007179e-07, -1.63870557e-09, -8.83129226e-10,  1.60870822e-07,\n",
       "        6.33793517e-08,  1.03906800e-08,  2.20201999e-09, -8.84967683e-10,\n",
       "        2.12520255e-07,  9.57609507e-09,  3.22334564e-09,  1.66777892e-08,\n",
       "        7.72393806e-10,  3.03170559e-09,  4.91869612e-10,  4.72302470e-10,\n",
       "        1.44606943e-06, -1.30590410e-04,  2.18045992e-04,  5.50851463e-07,\n",
       "        2.35023445e-04, -6.80501296e-06, -2.34782021e-08,  6.92505671e-11,\n",
       "       -1.35791403e-08, -5.91295811e-10, -6.74251378e-09, -1.77049510e-09,\n",
       "       -5.80148158e-08, -1.17647282e-09,  3.37565629e-08, -5.58134660e-07,\n",
       "       -2.40122755e-08, -1.65883223e-09, -3.05922635e-09, -3.42968951e-09,\n",
       "       -7.40498950e-09,  6.64905432e-06, -1.76466241e-09, -8.83212520e-10,\n",
       "       -5.89611402e-09, -5.51118243e-07,  7.93949655e-11, -1.25221118e-09,\n",
       "       -5.56794088e-09, -1.72442471e-09, -1.18774600e-08, -1.17682848e-09,\n",
       "       -8.84372862e-10, -2.88294874e-08, -7.43580707e-09, -1.06522496e-09,\n",
       "        4.19821986e-09, -8.85240869e-10, -3.10796947e-08, -1.38590482e-09,\n",
       "       -1.00375454e-08, -7.99766003e-08, -6.51074759e-08,  1.09061161e-10,\n",
       "        4.13806312e-04,  1.59961578e-07,  2.33913955e-10,  5.65813708e-06,\n",
       "       -1.88429447e-09,  1.15189928e-09, -3.86406966e-09, -5.90085727e-10,\n",
       "       -1.61670360e-06,  3.81600612e-06, -2.94567963e-09,  7.42154304e-09,\n",
       "       -6.98063947e-09, -2.62554953e-08, -5.86441326e-10, -8.81040954e-10,\n",
       "       -2.31247191e-08,  2.27966781e-06, -2.96161229e-10, -1.05740793e-07,\n",
       "       -7.07123641e-09, -3.98018537e-07, -1.98143160e-08, -2.32978054e-08,\n",
       "       -5.57508494e-09, -6.28431522e-08,  3.56115065e-09,  3.58256094e-05,\n",
       "       -5.91132515e-10, -1.27974058e-07, -2.26494000e-08,  4.94826620e-06,\n",
       "        3.89976838e-09,  1.43532630e-10,  7.53600338e-11,  6.16483123e-11,\n",
       "       -3.57749897e-09, -1.15381102e-05, -2.95859497e-10, -3.98175251e-09,\n",
       "       -2.66457388e-09, -2.67395077e-08, -2.16279070e-09, -1.11360519e-08,\n",
       "       -2.96906614e-08, -1.96865332e-09, -8.83237371e-10, -2.16415826e-09,\n",
       "       -6.19822247e-10,  1.26263723e-07,  1.41936866e-04, -1.48289332e-08,\n",
       "        4.21155288e-09,  6.39320489e-05, -1.30304464e-04,  3.24553563e-08,\n",
       "        1.47765736e-05,  2.71036920e-08,  5.42372476e-08,  3.47924202e-09,\n",
       "       -1.49778428e-07, -6.46977208e-07,  5.89719883e-09,  9.20626520e-07,\n",
       "        1.13165646e-07,  3.06035947e-09,  1.50303550e-09,  6.38437029e-07,\n",
       "        1.80474893e-08, -1.09742783e-08,  1.78771586e-09, -7.06796571e-09,\n",
       "       -4.12524809e-09, -1.51075752e-07,  1.50245994e-08, -4.05401827e-08,\n",
       "       -5.15430978e-05,  1.09752655e-06,  6.40617242e-07, -4.33459431e-04,\n",
       "        5.23298600e-08,  3.01899371e-08,  2.01133322e-09,  1.76514897e-09,\n",
       "        3.56474758e-10, -5.08225596e-09, -2.07608268e-07, -4.63535262e-07,\n",
       "        7.80813562e-07,  6.78894230e-07,  2.22022998e-08, -7.41716914e-10,\n",
       "       -4.92249939e-08, -7.45022410e-09, -1.96566106e-08, -8.49911169e-08,\n",
       "       -8.81795510e-10, -3.54421620e-09, -7.50124047e-09, -9.98436407e-05,\n",
       "       -2.06405762e-09, -2.96156987e-10, -3.82313934e-09,  2.90989845e-09,\n",
       "        1.00967582e-05,  8.12027900e-09, -2.91200026e-08,  2.25493054e-10,\n",
       "        1.52327798e-10, -5.90350122e-10, -1.70388284e-07, -2.92993183e-10,\n",
       "       -6.84498512e-09, -5.83607952e-09, -1.16474811e-10,  1.11555621e-05,\n",
       "       -8.14127535e-09, -5.86871953e-10, -1.75838197e-09, -3.10459957e-08,\n",
       "       -2.63077470e-09, -5.08409129e-09, -2.03592463e-05, -1.48061542e-08,\n",
       "       -4.71120454e-09, -2.66188467e-09, -2.95209360e-09,  1.78224148e-09,\n",
       "       -5.98749810e-07,  7.77768845e-07,  5.55446320e-08, -1.43045792e-08,\n",
       "        8.48232027e-09,  2.13514950e-09,  8.33989264e-06,  1.08374888e-07,\n",
       "        1.08264738e-09, -2.66402481e-09,  4.87399009e-10, -1.69700286e-04,\n",
       "        3.96105336e-09, -9.30458936e-10, -6.25172745e-10,  7.13053296e-10,\n",
       "        1.62724730e-09,  1.40914314e-09,  1.52126031e-07,  8.95619877e-11,\n",
       "        1.62656646e-10,  1.50823708e-10,  1.40291988e-10, -2.98362847e-10,\n",
       "        1.29563332e-08,  3.81963414e-10,  3.65188876e-07,  5.11031153e-08,\n",
       "        9.18104723e-10, -8.88967625e-10, -1.28298593e-08, -3.73031170e-09,\n",
       "       -5.46371400e-09, -5.91242936e-10, -3.31241224e-06, -1.02095863e-07,\n",
       "       -5.33564976e-07, -3.62364367e-08, -1.77046975e-09, -6.22288236e-08,\n",
       "       -4.41397917e-06, -9.22345967e-09, -2.56302538e-09,  2.34129635e-07,\n",
       "        1.27950137e-07, -4.13503919e-09,  2.01756475e-08,  4.98176842e-09,\n",
       "       -5.59661275e-09,  2.01250590e-04,  2.03002150e-04, -1.30814995e-07,\n",
       "       -1.67443365e-05, -5.70153904e-08, -5.99190410e-07, -1.28766635e-09,\n",
       "       -2.95517024e-10, -2.67382515e-07,  1.40192552e-10, -2.18532032e-04,\n",
       "       -1.14088973e-07,  2.45182066e-05, -1.17485462e-09, -1.55158519e-08,\n",
       "       -5.50554618e-08, -1.36691455e-08, -1.95571361e-08, -5.28101345e-09,\n",
       "       -1.24588866e-04, -4.88440386e-09, -7.22854213e-08, -7.07914468e-09,\n",
       "       -6.72345871e-09, -7.29290070e-09, -5.90720433e-10, -4.14163420e-08,\n",
       "       -1.47018930e-09,  5.89416708e-10, -1.18079698e-09, -1.80132787e-09,\n",
       "       -1.10149443e-08,  3.13607120e-08, -1.47607002e-09, -3.84071770e-09,\n",
       "       -4.30495582e-10, -6.64004362e-10, -1.52561285e-09, -3.37494369e-10,\n",
       "       -2.72456199e-09, -3.83192845e-06,  2.44863718e-06, -2.92103895e-06,\n",
       "       -8.01569662e-08, -9.40275484e-05,  9.88694682e-09,  1.36105471e-04,\n",
       "        9.65036132e-08,  1.36533856e-08, -6.14356334e-10, -8.96965436e-05,\n",
       "       -6.33309748e-08, -2.06782978e-09, -8.84294528e-10, -1.59692190e-07,\n",
       "       -3.90382994e-08, -2.20022369e-04, -1.12897883e-08, -6.31623564e-06,\n",
       "        1.14117426e-05, -8.84697528e-10, -1.06275006e-08,  1.12379902e-07,\n",
       "       -6.10601159e-06,  5.84355514e-08,  1.24474288e-04, -1.00684377e-08,\n",
       "       -4.32072427e-07, -4.01647278e-08, -1.46647271e-09, -4.49842217e-08,\n",
       "        1.45375098e-04,  3.28595839e-06, -1.83926061e-08, -7.68305182e-08,\n",
       "       -3.04375958e-08, -1.44495073e-08, -8.65189269e-09, -2.55640296e-08,\n",
       "       -2.21478865e-05, -6.95168978e-10, -4.34797330e-08,  1.99960864e-10,\n",
       "        1.62828317e-10,  2.42376498e-10, -9.05854375e-09, -7.00297145e-08,\n",
       "       -2.33508571e-06,  6.43006499e-05, -1.37181565e-08,  3.33160957e-09,\n",
       "       -5.92063458e-10, -2.36918287e-09, -8.82570220e-10,  3.48369525e-10,\n",
       "       -2.96017884e-10, -1.81585544e-08, -2.22025928e-08, -2.11791625e-05,\n",
       "       -1.18228788e-07, -1.81551786e-08, -4.10525646e-09, -4.95719241e-09,\n",
       "       -4.82261797e-09, -3.14938692e-10, -3.56926635e-09, -5.88646872e-10,\n",
       "        2.69604454e-09,  7.04538654e-11, -6.83131947e-09, -7.87358298e-09,\n",
       "       -4.97195669e-05, -6.22716392e-08, -2.69301618e-09,  1.17988038e-10,\n",
       "       -1.17854362e-09, -5.04766348e-08, -1.43824935e-04,  1.79089251e-07,\n",
       "        1.27294855e-08,  4.50465596e-10,  4.33148276e-09,  2.08537575e-10,\n",
       "       -8.88486432e-08, -1.98277248e-05, -1.68352390e-04,  2.01877813e-07,\n",
       "       -1.26809276e-09, -6.59712417e-09, -2.35481993e-08, -6.16640071e-08,\n",
       "        2.21961776e-09,  6.33021465e-10, -2.95216606e-10,  7.24429739e-08,\n",
       "        2.24416614e-07, -1.04252888e-08, -2.81033347e-08, -8.56111810e-09,\n",
       "       -5.83491815e-10,  3.58779470e-08, -3.13131864e-10,  1.28515817e-08,\n",
       "        3.22108318e-08, -3.77288502e-07,  1.52309102e-08,  2.27781252e-08,\n",
       "        2.55171432e-10,  4.88877788e-08,  1.28009695e-04, -1.66004973e-04,\n",
       "       -5.63670349e-08, -2.30788644e-09,  1.56576599e-06, -1.19698178e-09,\n",
       "       -1.71733715e-09, -9.93936965e-09, -2.45041024e-09, -2.84648936e-09,\n",
       "       -3.69364637e-09,  9.12082104e-03, -4.12879296e-05,  1.01347640e-04,\n",
       "        3.37093754e-06, -1.60014046e-04, -4.26848054e-09, -3.88968760e-07,\n",
       "       -2.67199180e-05,  2.39434120e-06,  1.43531223e-05, -5.14634167e-08,\n",
       "       -1.08443110e-07, -1.39926003e-05,  1.51985056e-07, -1.81316863e-04,\n",
       "        2.16592554e-05,  2.42119523e-04,  3.03247792e-04,  1.44237490e-04,\n",
       "       -2.30207746e-06, -3.85386193e-04, -2.14484648e-04, -1.83340757e-01])"
      ]
     },
     "execution_count": 43,
     "metadata": {},
     "output_type": "execute_result"
    }
   ],
   "source": [
    "model.coef_[0]"
   ]
  },
  {
   "cell_type": "code",
   "execution_count": 44,
   "id": "50f230fa",
   "metadata": {
    "ExecuteTime": {
     "end_time": "2023-10-04T07:30:00.243539Z",
     "start_time": "2023-10-04T07:30:00.143181Z"
    }
   },
   "outputs": [],
   "source": [
    "preed = model.predict(X_train)"
   ]
  },
  {
   "cell_type": "code",
   "execution_count": 45,
   "id": "6b37b70b",
   "metadata": {
    "ExecuteTime": {
     "end_time": "2023-10-04T07:30:00.892469Z",
     "start_time": "2023-10-04T07:30:00.859741Z"
    }
   },
   "outputs": [],
   "source": [
    "probX = model.predict_proba(X_train)"
   ]
  },
  {
   "cell_type": "code",
   "execution_count": 46,
   "id": "645d3837",
   "metadata": {
    "ExecuteTime": {
     "end_time": "2023-10-04T07:30:01.591885Z",
     "start_time": "2023-10-04T07:30:01.575031Z"
    }
   },
   "outputs": [
    {
     "data": {
      "text/plain": [
       "array([4.76022446e-028, 4.44560929e-057, 1.00000000e+000, ...,\n",
       "       5.52372340e-049, 1.03847986e-151, 2.61906782e-002])"
      ]
     },
     "execution_count": 46,
     "metadata": {},
     "output_type": "execute_result"
    }
   ],
   "source": [
    "probX[:, 1]"
   ]
  },
  {
   "cell_type": "code",
   "execution_count": 47,
   "id": "2046d8c7",
   "metadata": {
    "ExecuteTime": {
     "end_time": "2023-10-04T07:30:02.556868Z",
     "start_time": "2023-10-04T07:30:02.533506Z"
    }
   },
   "outputs": [
    {
     "data": {
      "text/plain": [
       "0.9995803608896349"
      ]
     },
     "execution_count": 47,
     "metadata": {},
     "output_type": "execute_result"
    }
   ],
   "source": [
    "predv = model.predict(X_val)\n",
    "(predv == y_val).mean()"
   ]
  },
  {
   "cell_type": "code",
   "execution_count": 48,
   "id": "78e3f4e8",
   "metadata": {
    "ExecuteTime": {
     "end_time": "2023-10-04T07:30:04.074069Z",
     "start_time": "2023-10-04T07:30:04.066075Z"
    }
   },
   "outputs": [],
   "source": [
    "featuree= [\n",
    "    'year',\n",
    "'engine_hp',\n",
    "'transmission_type',\n",
    "'city_mpg'\n",
    "]"
   ]
  },
  {
   "cell_type": "code",
   "execution_count": 49,
   "id": "b0983ec6",
   "metadata": {
    "ExecuteTime": {
     "end_time": "2023-10-04T07:30:08.801463Z",
     "start_time": "2023-10-04T07:30:06.054884Z"
    }
   },
   "outputs": [
    {
     "name": "stdout",
     "output_type": "stream",
     "text": [
      "{'year': 0.9471254720939991, 'engine_hp': 1.0, 'transmission_type': 0.9995803608896349, 'city_mpg': 0.9995803608896349}\n"
     ]
    }
   ],
   "source": [
    "scores = {}\n",
    "for feature in featuree:\n",
    "    df_trainf = df_train.drop(columns=[feature])\n",
    "    df_testf = df_test.drop(columns=[feature])\n",
    "    df_valf = df_val.drop(columns=[feature])\n",
    "    \n",
    "    trainf_dict = df_trainf.to_dict(orient= 'records')\n",
    "    X_trainf = dv.fit_transform(trainf_dict)\n",
    "    val_dictf = df_valf.to_dict(orient= 'records')\n",
    "    X_valf = dv.transform(val_dictf)\n",
    "    test_dictf = df_testf.to_dict(orient= 'records')\n",
    "    X_testf = dv.transform(test_dictf)\n",
    "    \n",
    "    model.fit(X_trainf, y_train)\n",
    "    preedf = model.predict(X_valf)\n",
    "    \n",
    "    scores[feature] = (preedf == y_val).mean()\n",
    "print(scores)"
   ]
  },
  {
   "cell_type": "code",
   "execution_count": 91,
   "id": "2fd6ca14",
   "metadata": {
    "ExecuteTime": {
     "end_time": "2023-10-04T07:26:35.190668Z",
     "start_time": "2023-10-04T07:26:35.049488Z"
    }
   },
   "outputs": [
    {
     "ename": "AttributeError",
     "evalue": "'DataFrame' object has no attribute 'year'",
     "output_type": "error",
     "traceback": [
      "\u001b[1;31m---------------------------------------------------------------------------\u001b[0m",
      "\u001b[1;31mAttributeError\u001b[0m                            Traceback (most recent call last)",
      "Input \u001b[1;32mIn [91]\u001b[0m, in \u001b[0;36m<cell line: 1>\u001b[1;34m()\u001b[0m\n\u001b[1;32m----> 1\u001b[0m \u001b[43mdf_val\u001b[49m\u001b[38;5;241;43m.\u001b[39;49m\u001b[43myear\u001b[49m\n",
      "File \u001b[1;32mC:\\ProgramData\\Anaconda3\\lib\\site-packages\\pandas\\core\\generic.py:5575\u001b[0m, in \u001b[0;36mNDFrame.__getattr__\u001b[1;34m(self, name)\u001b[0m\n\u001b[0;32m   5568\u001b[0m \u001b[38;5;28;01mif\u001b[39;00m (\n\u001b[0;32m   5569\u001b[0m     name \u001b[38;5;129;01mnot\u001b[39;00m \u001b[38;5;129;01min\u001b[39;00m \u001b[38;5;28mself\u001b[39m\u001b[38;5;241m.\u001b[39m_internal_names_set\n\u001b[0;32m   5570\u001b[0m     \u001b[38;5;129;01mand\u001b[39;00m name \u001b[38;5;129;01mnot\u001b[39;00m \u001b[38;5;129;01min\u001b[39;00m \u001b[38;5;28mself\u001b[39m\u001b[38;5;241m.\u001b[39m_metadata\n\u001b[0;32m   5571\u001b[0m     \u001b[38;5;129;01mand\u001b[39;00m name \u001b[38;5;129;01mnot\u001b[39;00m \u001b[38;5;129;01min\u001b[39;00m \u001b[38;5;28mself\u001b[39m\u001b[38;5;241m.\u001b[39m_accessors\n\u001b[0;32m   5572\u001b[0m     \u001b[38;5;129;01mand\u001b[39;00m \u001b[38;5;28mself\u001b[39m\u001b[38;5;241m.\u001b[39m_info_axis\u001b[38;5;241m.\u001b[39m_can_hold_identifiers_and_holds_name(name)\n\u001b[0;32m   5573\u001b[0m ):\n\u001b[0;32m   5574\u001b[0m     \u001b[38;5;28;01mreturn\u001b[39;00m \u001b[38;5;28mself\u001b[39m[name]\n\u001b[1;32m-> 5575\u001b[0m \u001b[38;5;28;01mreturn\u001b[39;00m \u001b[38;5;28;43mobject\u001b[39;49m\u001b[38;5;241;43m.\u001b[39;49m\u001b[38;5;21;43m__getattribute__\u001b[39;49m\u001b[43m(\u001b[49m\u001b[38;5;28;43mself\u001b[39;49m\u001b[43m,\u001b[49m\u001b[43m \u001b[49m\u001b[43mname\u001b[49m\u001b[43m)\u001b[49m\n",
      "\u001b[1;31mAttributeError\u001b[0m: 'DataFrame' object has no attribute 'year'"
     ]
    }
   ],
   "source": [
    "df_val.year"
   ]
  },
  {
   "cell_type": "code",
   "execution_count": null,
   "id": "ea5f2d09",
   "metadata": {},
   "outputs": [],
   "source": []
  }
 ],
 "metadata": {
  "kernelspec": {
   "display_name": "base",
   "language": "python",
   "name": "python3"
  },
  "language_info": {
   "codemirror_mode": {
    "name": "ipython",
    "version": 3
   },
   "file_extension": ".py",
   "mimetype": "text/x-python",
   "name": "python",
   "nbconvert_exporter": "python",
   "pygments_lexer": "ipython3",
   "version": "3.12.4"
  },
  "toc": {
   "base_numbering": 1,
   "nav_menu": {},
   "number_sections": true,
   "sideBar": true,
   "skip_h1_title": false,
   "title_cell": "Table of Contents",
   "title_sidebar": "Contents",
   "toc_cell": false,
   "toc_position": {},
   "toc_section_display": true,
   "toc_window_display": false
  },
  "varInspector": {
   "cols": {
    "lenName": 16,
    "lenType": 16,
    "lenVar": 40
   },
   "kernels_config": {
    "python": {
     "delete_cmd_postfix": "",
     "delete_cmd_prefix": "del ",
     "library": "var_list.py",
     "varRefreshCmd": "print(var_dic_list())"
    },
    "r": {
     "delete_cmd_postfix": ") ",
     "delete_cmd_prefix": "rm(",
     "library": "var_list.r",
     "varRefreshCmd": "cat(var_dic_list()) "
    }
   },
   "types_to_exclude": [
    "module",
    "function",
    "builtin_function_or_method",
    "instance",
    "_Feature"
   ],
   "window_display": false
  }
 },
 "nbformat": 4,
 "nbformat_minor": 5
}
