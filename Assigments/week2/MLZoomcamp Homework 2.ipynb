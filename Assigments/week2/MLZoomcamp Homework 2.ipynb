{
 "cells": [
  {
   "cell_type": "markdown",
   "id": "f63c6480",
   "metadata": {},
   "source": [
    "# MLZoomcamp Homework 2"
   ]
  },
  {
   "cell_type": "markdown",
   "id": "279559f4",
   "metadata": {
    "heading_collapsed": true
   },
   "source": [
    "## Importing Libraries"
   ]
  },
  {
   "cell_type": "code",
   "execution_count": 1,
   "id": "72beb01a",
   "metadata": {
    "ExecuteTime": {
     "end_time": "2023-09-26T16:05:01.942446Z",
     "start_time": "2023-09-26T16:05:01.918453Z"
    },
    "hidden": true
   },
   "outputs": [],
   "source": [
    "import numpy as np\n",
    "import pandas as pd\n",
    "import seaborn as sns\n",
    "import matplotlib.pyplot as plt\n",
    "\n",
    "%matplotlib inline"
   ]
  },
  {
   "cell_type": "markdown",
   "id": "ab4ea3e2",
   "metadata": {
    "heading_collapsed": true
   },
   "source": [
    "## Loading Dataset"
   ]
  },
  {
   "cell_type": "code",
   "execution_count": 2,
   "id": "438cd6ea",
   "metadata": {},
   "outputs": [],
   "source": [
    "df = pd.read_csv('laptops.csv')"
   ]
  },
  {
   "cell_type": "code",
   "execution_count": 3,
   "id": "f77c82da",
   "metadata": {
    "ExecuteTime": {
     "end_time": "2023-09-26T15:59:06.152616Z",
     "start_time": "2023-09-26T15:59:06.074660Z"
    },
    "hidden": true
   },
   "outputs": [
    {
     "data": {
      "text/html": [
       "<div>\n",
       "<style scoped>\n",
       "    .dataframe tbody tr th:only-of-type {\n",
       "        vertical-align: middle;\n",
       "    }\n",
       "\n",
       "    .dataframe tbody tr th {\n",
       "        vertical-align: top;\n",
       "    }\n",
       "\n",
       "    .dataframe thead th {\n",
       "        text-align: right;\n",
       "    }\n",
       "</style>\n",
       "<table border=\"1\" class=\"dataframe\">\n",
       "  <thead>\n",
       "    <tr style=\"text-align: right;\">\n",
       "      <th></th>\n",
       "      <th>Laptop</th>\n",
       "      <th>Status</th>\n",
       "      <th>Brand</th>\n",
       "      <th>Model</th>\n",
       "      <th>CPU</th>\n",
       "      <th>RAM</th>\n",
       "      <th>Storage</th>\n",
       "      <th>Storage type</th>\n",
       "      <th>GPU</th>\n",
       "      <th>Screen</th>\n",
       "      <th>Touch</th>\n",
       "      <th>Final Price</th>\n",
       "    </tr>\n",
       "  </thead>\n",
       "  <tbody>\n",
       "    <tr>\n",
       "      <th>0</th>\n",
       "      <td>ASUS ExpertBook B1 B1502CBA-EJ0436X Intel Core...</td>\n",
       "      <td>New</td>\n",
       "      <td>Asus</td>\n",
       "      <td>ExpertBook</td>\n",
       "      <td>Intel Core i5</td>\n",
       "      <td>8</td>\n",
       "      <td>512</td>\n",
       "      <td>SSD</td>\n",
       "      <td>NaN</td>\n",
       "      <td>15.6</td>\n",
       "      <td>No</td>\n",
       "      <td>1009.00</td>\n",
       "    </tr>\n",
       "    <tr>\n",
       "      <th>1</th>\n",
       "      <td>Alurin Go Start Intel Celeron N4020/8GB/256GB ...</td>\n",
       "      <td>New</td>\n",
       "      <td>Alurin</td>\n",
       "      <td>Go</td>\n",
       "      <td>Intel Celeron</td>\n",
       "      <td>8</td>\n",
       "      <td>256</td>\n",
       "      <td>SSD</td>\n",
       "      <td>NaN</td>\n",
       "      <td>15.6</td>\n",
       "      <td>No</td>\n",
       "      <td>299.00</td>\n",
       "    </tr>\n",
       "    <tr>\n",
       "      <th>2</th>\n",
       "      <td>ASUS ExpertBook B1 B1502CBA-EJ0424X Intel Core...</td>\n",
       "      <td>New</td>\n",
       "      <td>Asus</td>\n",
       "      <td>ExpertBook</td>\n",
       "      <td>Intel Core i3</td>\n",
       "      <td>8</td>\n",
       "      <td>256</td>\n",
       "      <td>SSD</td>\n",
       "      <td>NaN</td>\n",
       "      <td>15.6</td>\n",
       "      <td>No</td>\n",
       "      <td>789.00</td>\n",
       "    </tr>\n",
       "    <tr>\n",
       "      <th>3</th>\n",
       "      <td>MSI Katana GF66 12UC-082XES Intel Core i7-1270...</td>\n",
       "      <td>New</td>\n",
       "      <td>MSI</td>\n",
       "      <td>Katana</td>\n",
       "      <td>Intel Core i7</td>\n",
       "      <td>16</td>\n",
       "      <td>1000</td>\n",
       "      <td>SSD</td>\n",
       "      <td>RTX 3050</td>\n",
       "      <td>15.6</td>\n",
       "      <td>No</td>\n",
       "      <td>1199.00</td>\n",
       "    </tr>\n",
       "    <tr>\n",
       "      <th>4</th>\n",
       "      <td>HP 15S-FQ5085NS Intel Core i5-1235U/16GB/512GB...</td>\n",
       "      <td>New</td>\n",
       "      <td>HP</td>\n",
       "      <td>15S</td>\n",
       "      <td>Intel Core i5</td>\n",
       "      <td>16</td>\n",
       "      <td>512</td>\n",
       "      <td>SSD</td>\n",
       "      <td>NaN</td>\n",
       "      <td>15.6</td>\n",
       "      <td>No</td>\n",
       "      <td>669.01</td>\n",
       "    </tr>\n",
       "  </tbody>\n",
       "</table>\n",
       "</div>"
      ],
      "text/plain": [
       "                                              Laptop Status   Brand  \\\n",
       "0  ASUS ExpertBook B1 B1502CBA-EJ0436X Intel Core...    New    Asus   \n",
       "1  Alurin Go Start Intel Celeron N4020/8GB/256GB ...    New  Alurin   \n",
       "2  ASUS ExpertBook B1 B1502CBA-EJ0424X Intel Core...    New    Asus   \n",
       "3  MSI Katana GF66 12UC-082XES Intel Core i7-1270...    New     MSI   \n",
       "4  HP 15S-FQ5085NS Intel Core i5-1235U/16GB/512GB...    New      HP   \n",
       "\n",
       "        Model            CPU  RAM  Storage Storage type       GPU  Screen  \\\n",
       "0  ExpertBook  Intel Core i5    8      512          SSD       NaN    15.6   \n",
       "1          Go  Intel Celeron    8      256          SSD       NaN    15.6   \n",
       "2  ExpertBook  Intel Core i3    8      256          SSD       NaN    15.6   \n",
       "3      Katana  Intel Core i7   16     1000          SSD  RTX 3050    15.6   \n",
       "4         15S  Intel Core i5   16      512          SSD       NaN    15.6   \n",
       "\n",
       "  Touch  Final Price  \n",
       "0    No      1009.00  \n",
       "1    No       299.00  \n",
       "2    No       789.00  \n",
       "3    No      1199.00  \n",
       "4    No       669.01  "
      ]
     },
     "execution_count": 3,
     "metadata": {},
     "output_type": "execute_result"
    }
   ],
   "source": [
    "df.head()"
   ]
  },
  {
   "cell_type": "code",
   "execution_count": 4,
   "id": "d661eb1a",
   "metadata": {},
   "outputs": [
    {
     "name": "stdout",
     "output_type": "stream",
     "text": [
      "<class 'pandas.core.frame.DataFrame'>\n",
      "RangeIndex: 2160 entries, 0 to 2159\n",
      "Data columns (total 12 columns):\n",
      " #   Column        Non-Null Count  Dtype  \n",
      "---  ------        --------------  -----  \n",
      " 0   Laptop        2160 non-null   object \n",
      " 1   Status        2160 non-null   object \n",
      " 2   Brand         2160 non-null   object \n",
      " 3   Model         2160 non-null   object \n",
      " 4   CPU           2160 non-null   object \n",
      " 5   RAM           2160 non-null   int64  \n",
      " 6   Storage       2160 non-null   int64  \n",
      " 7   Storage type  2118 non-null   object \n",
      " 8   GPU           789 non-null    object \n",
      " 9   Screen        2156 non-null   float64\n",
      " 10  Touch         2160 non-null   object \n",
      " 11  Final Price   2160 non-null   float64\n",
      "dtypes: float64(2), int64(2), object(8)\n",
      "memory usage: 202.6+ KB\n"
     ]
    }
   ],
   "source": [
    "df.info()"
   ]
  },
  {
   "cell_type": "markdown",
   "id": "65385997",
   "metadata": {
    "heading_collapsed": true
   },
   "source": [
    "## EDA\n",
    "\n",
    "### Preparing dataset"
   ]
  },
  {
   "cell_type": "code",
   "execution_count": 5,
   "id": "efcdbc3c",
   "metadata": {},
   "outputs": [
    {
     "data": {
      "text/plain": [
       "Index(['Laptop', 'Status', 'Brand', 'Model', 'CPU', 'RAM', 'Storage',\n",
       "       'Storage type', 'GPU', 'Screen', 'Touch', 'Final Price'],\n",
       "      dtype='object')"
      ]
     },
     "execution_count": 5,
     "metadata": {},
     "output_type": "execute_result"
    }
   ],
   "source": [
    "df.columns"
   ]
  },
  {
   "cell_type": "markdown",
   "id": "d57e7821",
   "metadata": {},
   "source": [
    "### renaming data columns"
   ]
  },
  {
   "cell_type": "code",
   "execution_count": 6,
   "id": "e6b88764",
   "metadata": {},
   "outputs": [
    {
     "data": {
      "text/plain": [
       "Index(['laptop', 'status', 'brand', 'model', 'cpu', 'ram', 'storage',\n",
       "       'storage_type', 'gpu', 'screen', 'touch', 'final_price'],\n",
       "      dtype='object')"
      ]
     },
     "execution_count": 6,
     "metadata": {},
     "output_type": "execute_result"
    }
   ],
   "source": [
    "df.columns = df.columns.str.lower().str.replace(' ', '_')\n",
    "df.columns"
   ]
  },
  {
   "cell_type": "code",
   "execution_count": 7,
   "id": "e4405d30",
   "metadata": {
    "ExecuteTime": {
     "end_time": "2023-09-26T16:24:40.337843Z",
     "start_time": "2023-09-26T16:24:39.947912Z"
    },
    "hidden": true
   },
   "outputs": [
    {
     "data": {
      "text/plain": [
       "<Axes: xlabel='final_price', ylabel='Count'>"
      ]
     },
     "execution_count": 7,
     "metadata": {},
     "output_type": "execute_result"
    },
    {
     "data": {
      "image/png": "[encoded data removed]",
      "text/plain": [
       "<Figure size 640x480 with 1 Axes>"
      ]
     },
     "metadata": {},
     "output_type": "display_data"
    }
   ],
   "source": [
    "sns.histplot(df['final_price'], bins=50)"
   ]
  },
  {
   "cell_type": "code",
   "execution_count": 8,
   "id": "2816f37f",
   "metadata": {
    "ExecuteTime": {
     "end_time": "2023-09-26T16:19:01.423677Z",
     "start_time": "2023-09-26T16:19:01.399679Z"
    },
    "hidden": true
   },
   "outputs": [],
   "source": [
    "selected_columns = [\n",
    "'ram',\n",
    "'storage',\n",
    "'screen',\n",
    "'final_price'\n",
    "]\n",
    "\n",
    "df_fill = df[selected_columns]"
   ]
  },
  {
   "cell_type": "code",
   "execution_count": 9,
   "id": "cc6856cc",
   "metadata": {},
   "outputs": [
    {
     "data": {
      "text/html": [
       "<div>\n",
       "<style scoped>\n",
       "    .dataframe tbody tr th:only-of-type {\n",
       "        vertical-align: middle;\n",
       "    }\n",
       "\n",
       "    .dataframe tbody tr th {\n",
       "        vertical-align: top;\n",
       "    }\n",
       "\n",
       "    .dataframe thead th {\n",
       "        text-align: right;\n",
       "    }\n",
       "</style>\n",
       "<table border=\"1\" class=\"dataframe\">\n",
       "  <thead>\n",
       "    <tr style=\"text-align: right;\">\n",
       "      <th></th>\n",
       "      <th>ram</th>\n",
       "      <th>storage</th>\n",
       "      <th>screen</th>\n",
       "      <th>final_price</th>\n",
       "    </tr>\n",
       "  </thead>\n",
       "  <tbody>\n",
       "    <tr>\n",
       "      <th>0</th>\n",
       "      <td>8</td>\n",
       "      <td>512</td>\n",
       "      <td>15.6</td>\n",
       "      <td>1009.00</td>\n",
       "    </tr>\n",
       "    <tr>\n",
       "      <th>1</th>\n",
       "      <td>8</td>\n",
       "      <td>256</td>\n",
       "      <td>15.6</td>\n",
       "      <td>299.00</td>\n",
       "    </tr>\n",
       "    <tr>\n",
       "      <th>2</th>\n",
       "      <td>8</td>\n",
       "      <td>256</td>\n",
       "      <td>15.6</td>\n",
       "      <td>789.00</td>\n",
       "    </tr>\n",
       "    <tr>\n",
       "      <th>3</th>\n",
       "      <td>16</td>\n",
       "      <td>1000</td>\n",
       "      <td>15.6</td>\n",
       "      <td>1199.00</td>\n",
       "    </tr>\n",
       "    <tr>\n",
       "      <th>4</th>\n",
       "      <td>16</td>\n",
       "      <td>512</td>\n",
       "      <td>15.6</td>\n",
       "      <td>669.01</td>\n",
       "    </tr>\n",
       "  </tbody>\n",
       "</table>\n",
       "</div>"
      ],
      "text/plain": [
       "   ram  storage  screen  final_price\n",
       "0    8      512    15.6      1009.00\n",
       "1    8      256    15.6       299.00\n",
       "2    8      256    15.6       789.00\n",
       "3   16     1000    15.6      1199.00\n",
       "4   16      512    15.6       669.01"
      ]
     },
     "execution_count": 9,
     "metadata": {},
     "output_type": "execute_result"
    }
   ],
   "source": [
    "df_fill.head()"
   ]
  },
  {
   "cell_type": "code",
   "execution_count": 10,
   "id": "6f201f36",
   "metadata": {
    "ExecuteTime": {
     "end_time": "2023-09-26T16:19:43.761604Z",
     "start_time": "2023-09-26T16:19:43.706132Z"
    },
    "hidden": true
   },
   "outputs": [
    {
     "data": {
      "text/plain": [
       "ram            0\n",
       "storage        0\n",
       "screen         4\n",
       "final_price    0\n",
       "dtype: int64"
      ]
     },
     "execution_count": 10,
     "metadata": {},
     "output_type": "execute_result"
    }
   ],
   "source": [
    "df_fill.isna().sum()"
   ]
  },
  {
   "cell_type": "code",
   "execution_count": 11,
   "id": "fff2d15b",
   "metadata": {
    "ExecuteTime": {
     "end_time": "2023-09-26T16:20:17.038925Z",
     "start_time": "2023-09-26T16:20:16.921134Z"
    },
    "hidden": true
   },
   "outputs": [
    {
     "data": {
      "text/html": [
       "<div>\n",
       "<style scoped>\n",
       "    .dataframe tbody tr th:only-of-type {\n",
       "        vertical-align: middle;\n",
       "    }\n",
       "\n",
       "    .dataframe tbody tr th {\n",
       "        vertical-align: top;\n",
       "    }\n",
       "\n",
       "    .dataframe thead th {\n",
       "        text-align: right;\n",
       "    }\n",
       "</style>\n",
       "<table border=\"1\" class=\"dataframe\">\n",
       "  <thead>\n",
       "    <tr style=\"text-align: right;\">\n",
       "      <th></th>\n",
       "      <th>ram</th>\n",
       "      <th>storage</th>\n",
       "      <th>screen</th>\n",
       "      <th>final_price</th>\n",
       "    </tr>\n",
       "  </thead>\n",
       "  <tbody>\n",
       "    <tr>\n",
       "      <th>count</th>\n",
       "      <td>2160.000000</td>\n",
       "      <td>2160.000000</td>\n",
       "      <td>2156.000000</td>\n",
       "      <td>2160.000000</td>\n",
       "    </tr>\n",
       "    <tr>\n",
       "      <th>mean</th>\n",
       "      <td>15.413889</td>\n",
       "      <td>596.294444</td>\n",
       "      <td>15.168112</td>\n",
       "      <td>1312.638509</td>\n",
       "    </tr>\n",
       "    <tr>\n",
       "      <th>std</th>\n",
       "      <td>9.867815</td>\n",
       "      <td>361.220506</td>\n",
       "      <td>1.203329</td>\n",
       "      <td>911.475417</td>\n",
       "    </tr>\n",
       "    <tr>\n",
       "      <th>min</th>\n",
       "      <td>4.000000</td>\n",
       "      <td>0.000000</td>\n",
       "      <td>10.100000</td>\n",
       "      <td>201.050000</td>\n",
       "    </tr>\n",
       "    <tr>\n",
       "      <th>25%</th>\n",
       "      <td>8.000000</td>\n",
       "      <td>256.000000</td>\n",
       "      <td>14.000000</td>\n",
       "      <td>661.082500</td>\n",
       "    </tr>\n",
       "    <tr>\n",
       "      <th>50%</th>\n",
       "      <td>16.000000</td>\n",
       "      <td>512.000000</td>\n",
       "      <td>15.600000</td>\n",
       "      <td>1031.945000</td>\n",
       "    </tr>\n",
       "    <tr>\n",
       "      <th>75%</th>\n",
       "      <td>16.000000</td>\n",
       "      <td>1000.000000</td>\n",
       "      <td>15.600000</td>\n",
       "      <td>1708.970000</td>\n",
       "    </tr>\n",
       "    <tr>\n",
       "      <th>max</th>\n",
       "      <td>128.000000</td>\n",
       "      <td>4000.000000</td>\n",
       "      <td>18.000000</td>\n",
       "      <td>7150.470000</td>\n",
       "    </tr>\n",
       "  </tbody>\n",
       "</table>\n",
       "</div>"
      ],
      "text/plain": [
       "               ram      storage       screen  final_price\n",
       "count  2160.000000  2160.000000  2156.000000  2160.000000\n",
       "mean     15.413889   596.294444    15.168112  1312.638509\n",
       "std       9.867815   361.220506     1.203329   911.475417\n",
       "min       4.000000     0.000000    10.100000   201.050000\n",
       "25%       8.000000   256.000000    14.000000   661.082500\n",
       "50%      16.000000   512.000000    15.600000  1031.945000\n",
       "75%      16.000000  1000.000000    15.600000  1708.970000\n",
       "max     128.000000  4000.000000    18.000000  7150.470000"
      ]
     },
     "execution_count": 11,
     "metadata": {},
     "output_type": "execute_result"
    }
   ],
   "source": [
    "df_fill.describe()"
   ]
  },
  {
   "cell_type": "code",
   "execution_count": 12,
   "id": "e5218d55",
   "metadata": {
    "ExecuteTime": {
     "end_time": "2023-09-26T15:59:59.199209Z",
     "start_time": "2023-09-26T15:59:59.157233Z"
    },
    "hidden": true
   },
   "outputs": [
    {
     "data": {
      "text/plain": [
       "16.0"
      ]
     },
     "execution_count": 12,
     "metadata": {},
     "output_type": "execute_result"
    }
   ],
   "source": [
    "df_fill['ram'].median()"
   ]
  },
  {
   "cell_type": "markdown",
   "id": "0ef4f7fe",
   "metadata": {},
   "source": [
    "## Splitting Dataset"
   ]
  },
  {
   "cell_type": "code",
   "execution_count": 13,
   "id": "7e565e62",
   "metadata": {
    "ExecuteTime": {
     "end_time": "2023-09-26T16:40:15.325823Z",
     "start_time": "2023-09-26T16:40:15.309807Z"
    }
   },
   "outputs": [],
   "source": [
    "np.random.seed(42)"
   ]
  },
  {
   "cell_type": "code",
   "execution_count": 14,
   "id": "ad33ae3d",
   "metadata": {
    "ExecuteTime": {
     "end_time": "2023-09-26T16:42:05.976816Z",
     "start_time": "2023-09-26T16:42:05.960831Z"
    }
   },
   "outputs": [],
   "source": [
    "n = len(df_fill)\n",
    "idk = np.arange(n)"
   ]
  },
  {
   "cell_type": "code",
   "execution_count": 15,
   "id": "b4cd1bdc",
   "metadata": {},
   "outputs": [
    {
     "data": {
      "text/plain": [
       "array([ 0,  1,  2,  3,  4,  5,  6,  7,  8,  9, 10, 11, 12, 13, 14, 15, 16,\n",
       "       17, 18, 19])"
      ]
     },
     "execution_count": 15,
     "metadata": {},
     "output_type": "execute_result"
    }
   ],
   "source": [
    "idk[:20]"
   ]
  },
  {
   "cell_type": "code",
   "execution_count": 16,
   "id": "046f892b",
   "metadata": {
    "ExecuteTime": {
     "end_time": "2023-09-26T16:42:36.349138Z",
     "start_time": "2023-09-26T16:42:36.333141Z"
    }
   },
   "outputs": [],
   "source": [
    "np.random.shuffle(idk)"
   ]
  },
  {
   "cell_type": "code",
   "execution_count": 17,
   "id": "e56eceda",
   "metadata": {
    "ExecuteTime": {
     "end_time": "2023-09-26T16:46:02.853501Z",
     "start_time": "2023-09-26T16:46:02.837503Z"
    }
   },
   "outputs": [
    {
     "data": {
      "text/plain": [
       "(432, 432, 1296, 2160)"
      ]
     },
     "execution_count": 17,
     "metadata": {},
     "output_type": "execute_result"
    }
   ],
   "source": [
    "n_test = int(0.2 * n)\n",
    "n_val = int(0.2 * n)\n",
    "n_train = n - n_test - n_val\n",
    "\n",
    "n_test,n_val,n_train,n"
   ]
  },
  {
   "cell_type": "code",
   "execution_count": 18,
   "id": "932d3d11",
   "metadata": {
    "ExecuteTime": {
     "end_time": "2023-09-26T16:49:56.155306Z",
     "start_time": "2023-09-26T16:49:56.123297Z"
    }
   },
   "outputs": [],
   "source": [
    "df_train = df_fill.iloc[idk[:n_train]]\n",
    "df_test = df_fill.iloc[idk[n_train:n_train+n_test]]\n",
    "df_val = df_fill.iloc[idk[n_train+n_test:]]"
   ]
  },
  {
   "cell_type": "code",
   "execution_count": 19,
   "id": "d4e1278b",
   "metadata": {
    "ExecuteTime": {
     "end_time": "2023-09-26T16:52:54.176743Z",
     "start_time": "2023-09-26T16:52:54.160748Z"
    }
   },
   "outputs": [],
   "source": [
    "df_train = df_train.reset_index(drop=True)\n",
    "df_test = df_test.reset_index(drop=True)\n",
    "df_val = df_val.reset_index(drop=True)"
   ]
  },
  {
   "cell_type": "code",
   "execution_count": 20,
   "id": "8271fe15",
   "metadata": {
    "ExecuteTime": {
     "end_time": "2023-09-26T16:56:15.742135Z",
     "start_time": "2023-09-26T16:56:15.702148Z"
    }
   },
   "outputs": [
    {
     "data": {
      "text/html": [
       "<div>\n",
       "<style scoped>\n",
       "    .dataframe tbody tr th:only-of-type {\n",
       "        vertical-align: middle;\n",
       "    }\n",
       "\n",
       "    .dataframe tbody tr th {\n",
       "        vertical-align: top;\n",
       "    }\n",
       "\n",
       "    .dataframe thead th {\n",
       "        text-align: right;\n",
       "    }\n",
       "</style>\n",
       "<table border=\"1\" class=\"dataframe\">\n",
       "  <thead>\n",
       "    <tr style=\"text-align: right;\">\n",
       "      <th></th>\n",
       "      <th>ram</th>\n",
       "      <th>storage</th>\n",
       "      <th>screen</th>\n",
       "      <th>final_price</th>\n",
       "    </tr>\n",
       "  </thead>\n",
       "  <tbody>\n",
       "    <tr>\n",
       "      <th>0</th>\n",
       "      <td>32</td>\n",
       "      <td>1000</td>\n",
       "      <td>15.6</td>\n",
       "      <td>1123.29</td>\n",
       "    </tr>\n",
       "    <tr>\n",
       "      <th>1</th>\n",
       "      <td>4</td>\n",
       "      <td>64</td>\n",
       "      <td>14.1</td>\n",
       "      <td>201.05</td>\n",
       "    </tr>\n",
       "    <tr>\n",
       "      <th>2</th>\n",
       "      <td>32</td>\n",
       "      <td>1000</td>\n",
       "      <td>14.0</td>\n",
       "      <td>997.74</td>\n",
       "    </tr>\n",
       "    <tr>\n",
       "      <th>3</th>\n",
       "      <td>16</td>\n",
       "      <td>512</td>\n",
       "      <td>13.3</td>\n",
       "      <td>1016.00</td>\n",
       "    </tr>\n",
       "    <tr>\n",
       "      <th>4</th>\n",
       "      <td>32</td>\n",
       "      <td>1000</td>\n",
       "      <td>16.0</td>\n",
       "      <td>2739.00</td>\n",
       "    </tr>\n",
       "  </tbody>\n",
       "</table>\n",
       "</div>"
      ],
      "text/plain": [
       "   ram  storage  screen  final_price\n",
       "0   32     1000    15.6      1123.29\n",
       "1    4       64    14.1       201.05\n",
       "2   32     1000    14.0       997.74\n",
       "3   16      512    13.3      1016.00\n",
       "4   32     1000    16.0      2739.00"
      ]
     },
     "execution_count": 20,
     "metadata": {},
     "output_type": "execute_result"
    }
   ],
   "source": [
    "df_train.head()"
   ]
  },
  {
   "cell_type": "code",
   "execution_count": 21,
   "id": "9327a474",
   "metadata": {
    "ExecuteTime": {
     "end_time": "2023-09-26T16:59:11.081447Z",
     "start_time": "2023-09-26T16:59:11.025468Z"
    }
   },
   "outputs": [],
   "source": [
    "final_price_logs = np.log1p(df['final_price'])"
   ]
  },
  {
   "cell_type": "code",
   "execution_count": 22,
   "id": "2570acca",
   "metadata": {
    "ExecuteTime": {
     "end_time": "2023-09-26T16:59:36.288384Z",
     "start_time": "2023-09-26T16:59:35.892673Z"
    }
   },
   "outputs": [
    {
     "data": {
      "text/plain": [
       "<Axes: xlabel='final_price', ylabel='Count'>"
      ]
     },
     "execution_count": 22,
     "metadata": {},
     "output_type": "execute_result"
    },
    {
     "data": {
      "image/png": "[encoded data removed]",
      "text/plain": [
       "<Figure size 640x480 with 1 Axes>"
      ]
     },
     "metadata": {},
     "output_type": "display_data"
    }
   ],
   "source": [
    "sns.histplot(final_price_logs, bins=50)"
   ]
  },
  {
   "cell_type": "markdown",
   "id": "037603a3",
   "metadata": {},
   "source": [
    "## The Model\n",
    "\n",
    "#### Using Normal Equation Method"
   ]
  },
  {
   "cell_type": "code",
   "execution_count": 23,
   "id": "90ed5a70",
   "metadata": {
    "ExecuteTime": {
     "end_time": "2023-09-26T17:31:12.441815Z",
     "start_time": "2023-09-26T17:31:12.433835Z"
    }
   },
   "outputs": [],
   "source": [
    "base = [\n",
    "'ram',\n",
    "'storage',\n",
    "'screen']"
   ]
  },
  {
   "cell_type": "code",
   "execution_count": 24,
   "id": "0a3e3b31",
   "metadata": {
    "ExecuteTime": {
     "end_time": "2023-09-26T17:32:41.027132Z",
     "start_time": "2023-09-26T17:32:41.011133Z"
    }
   },
   "outputs": [],
   "source": [
    "def prepare_o (df):\n",
    "    # y = np.log1p(df['final_price'].values)\n",
    "    y = df['final_price'].values\n",
    "    df = df[base]\n",
    "    df = df.fillna(0).values\n",
    "    return df, y"
   ]
  },
  {
   "cell_type": "code",
   "execution_count": 25,
   "id": "bdd97389",
   "metadata": {
    "ExecuteTime": {
     "end_time": "2023-09-26T17:32:42.726903Z",
     "start_time": "2023-09-26T17:32:42.711734Z"
    }
   },
   "outputs": [],
   "source": [
    "def prepare_m (df):\n",
    "    # y = np.log1p(df['final_price'].values\n",
    "    y = df['final_price'].values\n",
    "    df = df[base]\n",
    "    df = df.fillna(df.mean()).values\n",
    "    return df, y"
   ]
  },
  {
   "cell_type": "code",
   "execution_count": 26,
   "id": "a775c76d",
   "metadata": {
    "ExecuteTime": {
     "end_time": "2023-09-26T17:19:15.198185Z",
     "start_time": "2023-09-26T17:19:15.174260Z"
    }
   },
   "outputs": [],
   "source": [
    "def train_linreg(X, y):\n",
    "    ones = np.ones(X.shape[0])\n",
    "    X = np.column_stack([ones, X])\n",
    "    XTX = X.T.dot(X)\n",
    "    XTX_inv = np.linalg.inv(XTX)\n",
    "    w_full = XTX_inv.dot(X.T).dot(y)\n",
    "    return w_full[0], w_full[1:]"
   ]
  },
  {
   "cell_type": "code",
   "execution_count": 27,
   "id": "3dd32dde",
   "metadata": {
    "ExecuteTime": {
     "end_time": "2023-09-26T17:39:22.604783Z",
     "start_time": "2023-09-26T17:39:22.588766Z"
    }
   },
   "outputs": [],
   "source": [
    "def rmse(y, y_pred):\n",
    "    se = (y - y_pred)**2\n",
    "    mse = se.mean()\n",
    "    return np.sqrt(mse)"
   ]
  },
  {
   "cell_type": "code",
   "execution_count": 28,
   "id": "0dfd3326",
   "metadata": {
    "ExecuteTime": {
     "end_time": "2023-09-26T17:52:34.174848Z",
     "start_time": "2023-09-26T17:52:34.142856Z"
    }
   },
   "outputs": [
    {
     "data": {
      "text/plain": [
       "602.39"
      ]
     },
     "execution_count": 28,
     "metadata": {},
     "output_type": "execute_result"
    }
   ],
   "source": [
    "trainX_0, yX_0 = prepare_o(df_train)\n",
    "w0, w = train_linreg(trainX_0, yX_0)\n",
    "\n",
    "yPredX0 = w0 + trainX_0.dot(w)\n",
    "score = rmse(yX_0, yPredX0)\n",
    "score = round(score, 2)\n",
    "score"
   ]
  },
  {
   "cell_type": "code",
   "execution_count": 29,
   "id": "94a06170",
   "metadata": {
    "ExecuteTime": {
     "end_time": "2023-09-26T17:53:44.090376Z",
     "start_time": "2023-09-26T17:53:44.050380Z"
    }
   },
   "outputs": [
    {
     "data": {
      "text/plain": [
       "602.18"
      ]
     },
     "execution_count": 29,
     "metadata": {},
     "output_type": "execute_result"
    }
   ],
   "source": [
    "trainX_m, yX_m = prepare_m(df_train)\n",
    "w0, w = train_linreg(trainX_m, yX_m)\n",
    "\n",
    "yPredXm = w0 + trainX_m.dot(w)\n",
    "score = rmse(yX_m, yPredXm)\n",
    "score = round(score, 2)\n",
    "score"
   ]
  },
  {
   "cell_type": "code",
   "execution_count": 30,
   "id": "f9e49b76",
   "metadata": {
    "ExecuteTime": {
     "end_time": "2023-09-26T19:06:55.558744Z",
     "start_time": "2023-09-26T19:06:55.526750Z"
    }
   },
   "outputs": [
    {
     "data": {
      "text/plain": [
       "547.32"
      ]
     },
     "execution_count": 30,
     "metadata": {},
     "output_type": "execute_result"
    }
   ],
   "source": [
    "X_val0, yval_0 = prepare_o(df_val)\n",
    "\n",
    "ypred0 = w0 + X_val0.dot(w)\n",
    "score = rmse(yval_0, ypred0)\n",
    "score = round(score, 2)\n",
    "score"
   ]
  },
  {
   "cell_type": "code",
   "execution_count": 31,
   "id": "822fd622",
   "metadata": {
    "ExecuteTime": {
     "end_time": "2023-09-26T19:07:45.934777Z",
     "start_time": "2023-09-26T19:07:45.910780Z"
    }
   },
   "outputs": [
    {
     "data": {
      "text/plain": [
       "547.32"
      ]
     },
     "execution_count": 31,
     "metadata": {},
     "output_type": "execute_result"
    }
   ],
   "source": [
    "X_valm,yval_m = prepare_m(df_val)\n",
    "ypredm = w0 + X_valm.dot(w)\n",
    "score = rmse(yval_m, ypredm)\n",
    "score = round(score, 2)\n",
    "score"
   ]
  },
  {
   "cell_type": "markdown",
   "id": "d3fd8b8a",
   "metadata": {},
   "source": [
    "## Regularization"
   ]
  },
  {
   "cell_type": "code",
   "execution_count": 32,
   "id": "57355312",
   "metadata": {
    "ExecuteTime": {
     "end_time": "2023-09-26T19:16:28.747409Z",
     "start_time": "2023-09-26T19:16:28.739409Z"
    }
   },
   "outputs": [],
   "source": [
    "def train_lin_reg(X, y, r=0.001):\n",
    "    ones = np.ones(X.shape[0])\n",
    "    X = np.column_stack([ones, X])\n",
    "    XTX = X.T.dot(X)\n",
    "    XTX = XTX + r * np.eye(XTX.shape[0])\n",
    "    \n",
    "    XTX_inv = np.linalg.inv(XTX)\n",
    "    w_full = XTX_inv.dot(X.T).dot(y)\n",
    "    return w_full[0], w_full[1:]"
   ]
  },
  {
   "cell_type": "code",
   "execution_count": 33,
   "id": "1c998dc7",
   "metadata": {
    "ExecuteTime": {
     "end_time": "2023-09-26T19:34:10.256454Z",
     "start_time": "2023-09-26T19:34:10.101915Z"
    }
   },
   "outputs": [
    {
     "name": "stdout",
     "output_type": "stream",
     "text": [
      "547.04\n",
      "547.04\n",
      "547.04\n",
      "547.0\n",
      "547.06\n",
      "547.25\n",
      "548.32\n",
      "{0: 547.04, 0.01: 547.04, 0.1: 547.04, 1: 547.0, 5: 547.06, 10: 547.25, 100: 548.32}\n"
     ]
    }
   ],
   "source": [
    "regs = [0, 0.01, 0.1, 1, 5, 10, 100]\n",
    "scored = {}\n",
    "\n",
    "\n",
    "for r in regs:\n",
    "    trainX, yX = prepare_o(df_train)\n",
    "    w0, w = train_lin_reg(trainX, yX, r=r)\n",
    "    \n",
    "    X_valm,yval_m = prepare_m(df_val)\n",
    "    ypredm = w0 + X_valm.dot(w)\n",
    "    score = rmse(yval_m, ypredm)\n",
    "    score = round(score, 2)\n",
    "    scored[r] = score\n",
    "    print(score)\n",
    "    \n",
    "print(scored)"
   ]
  },
  {
   "cell_type": "markdown",
   "id": "4a7e6c1e",
   "metadata": {},
   "source": [
    "### Try different seed values: [0, 1, 2, 3, 4, 5, 6, 7, 8, 9]."
   ]
  },
  {
   "cell_type": "code",
   "execution_count": 34,
   "id": "30f92b8d",
   "metadata": {
    "ExecuteTime": {
     "end_time": "2023-09-26T19:58:40.645267Z",
     "start_time": "2023-09-26T19:58:40.510022Z"
    }
   },
   "outputs": [
    {
     "name": "stdout",
     "output_type": "stream",
     "text": [
      "[578.24396344316, 570.1688046923916, 594.9409692010372, 626.1701913231832, 611.5274831595048, 573.7007929380331, 543.5149768642533, 631.0181963603811, 672.9906309991741, 614.1110846523201]\n"
     ]
    },
    {
     "data": {
      "text/plain": [
       "35.427"
      ]
     },
     "execution_count": 34,
     "metadata": {},
     "output_type": "execute_result"
    }
   ],
   "source": [
    "rmselist = []\n",
    "seeds = [0, 1, 2, 3, 4, 5, 6, 7, 8, 9]\n",
    "for seed in seeds:\n",
    "    np.random.seed(seed)\n",
    "    idx = np.arange(n)\n",
    "    np.random.shuffle(idx)\n",
    "    df_train = df_fill.iloc[idx[:n_train]]\n",
    "    df_test = df_fill.iloc[idx[n_train:n_train+n_test]]\n",
    "    df_val = df_fill.iloc[idx[n_train+n_test:]]\n",
    "    \n",
    "    df_train = df_train.reset_index(drop=True)\n",
    "    df_test = df_test.reset_index(drop=True)\n",
    "    df_val = df_val.reset_index(drop=True)\n",
    "    \n",
    "    trainX_0, yX_0 = prepare_o(df_train)\n",
    "    w0, w = train_linreg(trainX_0, yX_0)\n",
    "    \n",
    "    X_val0,yval_0 = prepare_o(df_val)\n",
    "    ypred0 = w0 + X_val0.dot(w)\n",
    "    score = rmse(yval_0, ypred0)\n",
    "    rmselist.append(score)\n",
    "print(rmselist)\n",
    "std = np.std(rmselist)\n",
    "std = round(std, 3)\n",
    "std"
   ]
  },
  {
   "cell_type": "code",
   "execution_count": 35,
   "id": "c9ae8d0b",
   "metadata": {
    "ExecuteTime": {
     "end_time": "2023-09-26T21:12:19.147087Z",
     "start_time": "2023-09-26T21:12:18.971171Z"
    }
   },
   "outputs": [
    {
     "data": {
      "text/plain": [
       "548.9199913248564"
      ]
     },
     "execution_count": 35,
     "metadata": {},
     "output_type": "execute_result"
    }
   ],
   "source": [
    "#rmse on test dataset\n",
    "np.random.seed(9)\n",
    "np.random.shuffle(idk)\n",
    "df_train = df_fill.iloc[idk[:n_train]]\n",
    "df_test = df_fill.iloc[idk[n_train:n_train+n_test]]\n",
    "df_val = df_fill.iloc[idk[n_train+n_test:]]\n",
    "    \n",
    "df_train = df_train.reset_index(drop=True)\n",
    "df_test = df_test.reset_index(drop=True)\n",
    "df_val = df_val.reset_index(drop=True)\n",
    "\n",
    "merged_df = pd.concat([df_train, df_val], axis=0)\n",
    "\n",
    "trainX_m, yX_m = prepare_o(merged_df)\n",
    "\n",
    "w0, w = train_lin_reg(trainX_m, yX_m, r=0.001)\n",
    "    \n",
    "X_test0,ytest_0 = prepare_o(df_test)\n",
    "ypred0 = w0 + X_test0.dot(w)\n",
    "score = rmse(ytest_0, ypred0)\n",
    "\n",
    "score"
   ]
  },
  {
   "cell_type": "code",
   "execution_count": null,
   "id": "5ee3c8ec",
   "metadata": {},
   "outputs": [],
   "source": []
  },
  {
   "cell_type": "code",
   "execution_count": null,
   "id": "c01aea27",
   "metadata": {},
   "outputs": [],
   "source": []
  }
 ],
 "metadata": {
  "kernelspec": {
   "display_name": "base",
   "language": "python",
   "name": "python3"
  },
  "language_info": {
   "codemirror_mode": {
    "name": "ipython",
    "version": 3
   },
   "file_extension": ".py",
   "mimetype": "text/x-python",
   "name": "python",
   "nbconvert_exporter": "python",
   "pygments_lexer": "ipython3",
   "version": "3.12.4"
  },
  "toc": {
   "base_numbering": 1,
   "nav_menu": {},
   "number_sections": true,
   "sideBar": true,
   "skip_h1_title": false,
   "title_cell": "Table of Contents",
   "title_sidebar": "Contents",
   "toc_cell": false,
   "toc_position": {},
   "toc_section_display": true,
   "toc_window_display": false
  },
  "varInspector": {
   "cols": {
    "lenName": 16,
    "lenType": 16,
    "lenVar": 40
   },
   "kernels_config": {
    "python": {
     "delete_cmd_postfix": "",
     "delete_cmd_prefix": "del ",
     "library": "var_list.py",
     "varRefreshCmd": "print(var_dic_list())"
    },
    "r": {
     "delete_cmd_postfix": ") ",
     "delete_cmd_prefix": "rm(",
     "library": "var_list.r",
     "varRefreshCmd": "cat(var_dic_list()) "
    }
   },
   "types_to_exclude": [
    "module",
    "function",
    "builtin_function_or_method",
    "instance",
    "_Feature"
   ],
   "window_display": false
  }
 },
 "nbformat": 4,
 "nbformat_minor": 5
}
